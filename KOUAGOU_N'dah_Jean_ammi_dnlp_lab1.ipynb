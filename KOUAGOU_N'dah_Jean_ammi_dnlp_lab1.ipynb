{
 "cells": [
  {
   "cell_type": "markdown",
   "metadata": {
    "colab_type": "text",
    "id": "uzAMazBhyO7O"
   },
   "source": [
    "# AMMI Deep Natural Language Processing: Lab 1"
   ]
  },
  {
   "cell_type": "markdown",
   "metadata": {
    "colab_type": "text",
    "id": "z2oBLu8PyV1V"
   },
   "source": [
    "## 0. Introduction"
   ]
  },
  {
   "cell_type": "markdown",
   "metadata": {
    "colab_type": "text",
    "id": "NHed26lWcGwQ"
   },
   "source": [
    "In this tutorial we will train neural networks on the bAbI tasks using ParlAI framework.  \n",
    "This tutorial can be run both in google colab or on your computer.  \n",
    "The solutions will be added during the lab [here](https://fburl.com/ammi_dnlp_lab1).  \n",
    "\n",
    "We will cover the following:\n",
    "0. Introduction\n",
    "    - Introduction to ParlAI and installation\n",
    "    - Introduction to the bAbI tasks\n",
    "1. Exploring the data:\n",
    "    - Compute some statistics (number of examples in train, valid, test, size of examples...)\n",
    "    - Look at some examples\n",
    "2. Choose the appropriate metrics\n",
    "3. Baselines\n",
    "    - Ranom baseline\n",
    "    - Majority class baseline\n",
    "    - Information retrieval baseline\n",
    "4. More elaborate models\n",
    "   - Generative model: Seq2Seq\n",
    "   - Ranking model: Memory Network\n",
    "5. To go further\n",
    "    - Additional ideas to try if you want to dig deeper\n",
    "\n",
    "### ParlAI\n",
    "[ParlAI](https://github.com/facebookresearch/ParlAI/blob/master/README.md) (pronounced “par-lay”) is a framework for dialogue AI research, implemented in Python.\n",
    "\n",
    "Its goal is to provide researchers:\n",
    "\n",
    "* a unified framework for sharing, training and testing dialogue models\n",
    "* many popular datasets available all in one place -- from open-domain chitchat to visual question answering.\n",
    "* a wide set of reference models -- from retrieval baselines to Transformers.\n",
    "* seamless integration of Amazon Mechanical Turk for data collection and human evaluation\n",
    "* integration with Facebook Messenger to connect agents with humans in a chat interface\n",
    "\n",
    "Documentation can be found [here](http://www.parl.ai/static/docs/), some of this tutorial is inspired from the ParlAI documentation so feel free to go back and forth between the notebook and the documentation.\n",
    "\n",
    "\n",
    "### Setup the notebook\n",
    "If using google colab, make sure to use TPU runtime by going to ***Runtime > Change runtime type > Hardware accelerator: TPU > Save***"
   ]
  },
  {
   "cell_type": "markdown",
   "metadata": {
    "colab_type": "text",
    "id": "-k8BZE3HJaut"
   },
   "source": [
    "### Install ParlAI\n",
    "\n",
    "Start by installing ParlAI from github. The ParlAI folder will be located in the home directory at `~/ParlAI/`.  \n",
    "*Note: In a jupyter notebook, you can run arbitrary bash commands by prefixing them with a question mark, example: `!echo \"Hello World\"`*"
   ]
  },
  {
   "cell_type": "code",
   "execution_count": 2,
   "metadata": {
    "colab": {
     "base_uri": "https://localhost:8080/",
     "height": 717
    },
    "colab_type": "code",
    "id": "l8V7QcnMI7Wk",
    "outputId": "52ec7dca-e48b-4992-8929-24902489689c"
   },
   "outputs": [
    {
     "name": "stdout",
     "output_type": "stream",
     "text": [
      "Cloning into '/root/ParlAI'...\n",
      "remote: Enumerating objects: 52, done.\u001b[K\n",
      "remote: Counting objects: 100% (52/52), done.\u001b[K\n",
      "remote: Compressing objects: 100% (40/40), done.\u001b[K\n",
      "remote: Total 29963 (delta 19), reused 22 (delta 12), pack-reused 29911\u001b[K\n",
      "Receiving objects: 100% (29963/29963), 57.61 MiB | 32.36 MiB/s, done.\n",
      "Resolving deltas: 100% (21322/21322), done.\n",
      "Note: checking out '6bd0e58692b3fd3a13b5f654944525ac1b7cd8e3'.\n",
      "\n",
      "You are in 'detached HEAD' state. You can look around, make experimental\n",
      "changes and commit them, and you can discard any commits you make in this\n",
      "state without impacting any branches by performing another checkout.\n",
      "\n",
      "If you want to create a new branch to retain commits you create, you may\n",
      "do so (now or later) by using -b with the checkout command again. Example:\n",
      "\n",
      "  git checkout -b <new-branch-name>\n",
      "\n",
      "HEAD is now at 6bd0e586 light paper link on webpage! (#1536)\n",
      "zip_safe flag not set; analyzing archive contents...\n",
      "  File \"build/bdist.linux-x86_64/egg/websocket/policyserver.py\", line 21\n",
      "    print 'Accepted connection from %s:%s' % address\n",
      "                                         ^\n",
      "SyntaxError: Missing parentheses in call to 'print'. Did you mean print('Accepted connection from %s:%s' % address)?\n",
      "\n",
      "  File \"build/bdist.linux-x86_64/egg/websocket/server.py\", line 57\n",
      "    except IOError, ex:\n",
      "                  ^\n",
      "SyntaxError: invalid syntax\n",
      "\n",
      "  File \"/usr/local/lib/python3.6/dist-packages/websocket-0.2.1-py3.6.egg/websocket/policyserver.py\", line 21\n",
      "    print 'Accepted connection from %s:%s' % address\n",
      "                                         ^\n",
      "SyntaxError: Missing parentheses in call to 'print'. Did you mean print('Accepted connection from %s:%s' % address)?\n",
      "\n",
      "  File \"/usr/local/lib/python3.6/dist-packages/websocket-0.2.1-py3.6.egg/websocket/server.py\", line 57\n",
      "    except IOError, ex:\n",
      "                  ^\n",
      "SyntaxError: invalid syntax\n",
      "\n"
     ]
    }
   ],
   "source": [
    "# Remove `> /dev/null` to see the output of commands\n",
    "!git clone https://github.com/facebookresearch/ParlAI.git ~/ParlAI  > /dev/null\n",
    "!cd ~/ParlAI && git checkout 6bd0e58692b3fd3a13b5f654944525ac1b7cd8e3\n",
    "!cd ~/ParlAI && python3 setup.py develop > /dev/null"
   ]
  },
  {
   "cell_type": "markdown",
   "metadata": {
    "colab_type": "text",
    "id": "EJDOC-zsL3wR"
   },
   "source": [
    "Most of the scripts that we will use in ParlAI are located in the `~/ParlAI/examples` directory.  \n",
    "Let's have a first glance at the scripts available, we will come back to them later:"
   ]
  },
  {
   "cell_type": "code",
   "execution_count": 3,
   "metadata": {
    "colab": {
     "base_uri": "https://localhost:8080/",
     "height": 102
    },
    "colab_type": "code",
    "id": "bIMjwxKrLm36",
    "outputId": "6200c350-15ad-4b2e-e50b-b971a8142b8f"
   },
   "outputs": [
    {
     "name": "stdout",
     "output_type": "stream",
     "text": [
      "base_train.py\t       eval_model.py\t\t remote.py\n",
      "build_dict.py\t       extract_image_feature.py  seq2seq_train_babi.py\n",
      "build_pytorch_data.py  interactive.py\t\t train_model.py\n",
      "display_data.py        profile_train.py\n",
      "display_model.py       README.md\n"
     ]
    }
   ],
   "source": [
    "!ls ~/ParlAI/examples/"
   ]
  },
  {
   "cell_type": "markdown",
   "metadata": {
    "colab_type": "text",
    "id": "N4UnbCdcqHPu"
   },
   "source": [
    "### The bAbI tasks\n",
    "Many datasets and tasks are included in ParlAI, we will focus on the bAbI tasks.\n",
    "The bAbI tasks are 20 synthetic tasks that each test a unique aspect of text and reasoning, and hence test different capabilities of learning models from [Weston et al. ‘16](http://arxiv.org/abs/1502.05698).\n",
    "\n",
    "---\n",
    "**Question 0.**  \n",
    "Open the bAbI [paper](https://arxiv.org/pdf/1502.05698.pdf) and read the abstract  and section: *\"3 The Tasks\"* (until paragraph **Two or Three Supporting Facts**,  included).  \n",
    "- **0.a.** Explain in your own words the motivations behind these tasks (in 2-3 sentences).\n",
    "\n",
    "The motivations behind these tasks is that they are simple tasks and can help to check how good a machine learning model is. They provide both training and test data as well. Hence, these tasks serve as prerequistes for any system that aims at interacting with humans.\n",
    "---\n",
    "\n",
    "These tasks can be downloaded and used directly from ParlAI.  \n",
    "We will focus on tasks 1, 2 and 3, see examples below:\n",
    "\n",
    "\n",
    "**Task 1: Single Supporting Fact**  \n",
    "Mary went to the bathroom.  \n",
    "John moved to the hallway.  \n",
    "Mary travelled to the office.  \n",
    "Where is Mary?  \n",
    "**Answer: office**  \n",
    "\n",
    "\n",
    "**Task 2: Two Supporting Facts**  \n",
    "John is in the playground.  \n",
    "John picked up the football.  \n",
    "Bob went to the kitchen.  \n",
    "Where is the football?  \n",
    "**Answer: playground**\n",
    "\n",
    "\n",
    "**Task 3: Three Supporting Facts **  \n",
    "John picked up the apple.  \n",
    "John went to the office.  \n",
    "John went to the kitchen.  \n",
    "John dropped the apple.   \n",
    "Where was the apple before the kitchen?  \n",
    "**Answer: office**\n",
    "\n"
   ]
  },
  {
   "cell_type": "markdown",
   "metadata": {
    "colab_type": "text",
    "id": "L6IZA9r0MjBd"
   },
   "source": [
    "## 1. Exploring the data"
   ]
  },
  {
   "cell_type": "markdown",
   "metadata": {
    "colab_type": "text",
    "id": "1Cc-Si6SyatK"
   },
   "source": [
    "First we need to download the data, we will use the `build_dict.py` as a dummy task to download the data."
   ]
  },
  {
   "cell_type": "code",
   "execution_count": 4,
   "metadata": {
    "colab": {
     "base_uri": "https://localhost:8080/",
     "height": 1000
    },
    "colab_type": "code",
    "id": "XAEH7xUXtxFj",
    "outputId": "4b85200c-9d86-4a32-f8f6-3c675a50be1f"
   },
   "outputs": [
    {
     "name": "stdout",
     "output_type": "stream",
     "text": [
      "[ Main ParlAI Arguments: ] \n",
      "[  batchsize: 1 ]\n",
      "[  datapath: /root/ParlAI/data ]\n",
      "[  datatype: train ]\n",
      "[  download_path: /root/ParlAI/downloads ]\n",
      "[  hide_labels: False ]\n",
      "[  image_mode: raw ]\n",
      "[  multitask_weights: [1] ]\n",
      "[  numthreads: 1 ]\n",
      "[  show_advanced_args: False ]\n",
      "[  task: babi:task1k:1 ]\n",
      "[ ParlAI Model Arguments: ] \n",
      "[  dict_class: None ]\n",
      "[  init_model: None ]\n",
      "[  model: None ]\n",
      "[  model_file: None ]\n",
      "[ PytorchData Arguments: ] \n",
      "[  batch_length_range: 5 ]\n",
      "[  batch_sort_cache_type: pop ]\n",
      "[  batch_sort_field: text ]\n",
      "[  numworkers: 4 ]\n",
      "[  pytorch_context_length: -1 ]\n",
      "[  pytorch_datapath: None ]\n",
      "[  pytorch_include_labels: True ]\n",
      "[  pytorch_preprocess: False ]\n",
      "[  pytorch_teacher_batch_sort: False ]\n",
      "[  pytorch_teacher_dataset: None ]\n",
      "[  pytorch_teacher_task: None ]\n",
      "[  shuffle: False ]\n",
      "[ Dictionary Loop Arguments: ] \n",
      "[  dict_include_test: False ]\n",
      "[  dict_include_valid: False ]\n",
      "[  dict_maxexs: -1 ]\n",
      "[  log_every_n_secs: 2 ]\n",
      "[ Dictionary Arguments: ] \n",
      "[  bpe_debug: False ]\n",
      "[  dict_endtoken: __end__ ]\n",
      "[  dict_file: /tmp/babi1.dict ]\n",
      "[  dict_initpath: None ]\n",
      "[  dict_language: english ]\n",
      "[  dict_lower: False ]\n",
      "[  dict_max_ngram_size: -1 ]\n",
      "[  dict_maxtokens: -1 ]\n",
      "[  dict_minfreq: 0 ]\n",
      "[  dict_nulltoken: __null__ ]\n",
      "[  dict_starttoken: __start__ ]\n",
      "[  dict_textfields: text,labels ]\n",
      "[  dict_tokenizer: re ]\n",
      "[  dict_unktoken: __unk__ ]\n",
      "[ ParlAI Image Preprocessing Arguments: ] \n",
      "[  image_cropsize: 224 ]\n",
      "[  image_size: 256 ]\n",
      "[creating task(s): babi:task1k:1]\n",
      "[building data: /root/ParlAI/data/bAbI]\n",
      "[ downloading: http://parl.ai/downloads/babi/babi.tar.gz to /root/ParlAI/data/bAbI/babi.tar.gz ]\n",
      "Downloading babi.tar.gz: 100% 19.2M/19.2M [00:02<00:00, 8.21MB/s]\n",
      "unpacking babi.tar.gz\n",
      "[ running dictionary over data.. ]\n",
      "[loading fbdialog data:/root/ParlAI/data/bAbI/tasks_1-20_v1-2/en-valid-nosf/qa1_train.txt]\n",
      "Building dictionary:   0% 0.00/900 [00:00<?, ?ex/s][loading fbdialog data:/root/ParlAI/data/bAbI/tasks_1-20_v1-2/en-valid-nosf/qa1_train.txt]\n",
      "[loading fbdialog data:/root/ParlAI/data/bAbI/tasks_1-20_v1-2/en-valid-nosf/qa1_train.txt]\n",
      "Building dictionary: 100% 900/900 [00:00<00:00, 23.7kex/s]\n",
      "Dictionary: saving dictionary to /tmp/babi1.dict\n",
      "[ dictionary built with 26 tokens in 0s ]\n",
      "1 Mary moved to the bathroom.\n",
      "2 John went to the hallway.\n",
      "3 Where is Mary? \tbathroom\n",
      "4 Daniel went back to the hallway.\n",
      "5 Sandra moved to the garden.\n",
      "6 Where is Daniel? \thallway\n",
      "7 John moved to the office.\n",
      "8 Sandra journeyed to the bathroom.\n",
      "9 Where is Daniel? \thallway\n",
      "10 Mary moved to the hallway.\n",
      "11 Daniel travelled to the office.\n",
      "12 Where is Daniel? \toffice\n",
      "13 John went back to the garden.\n",
      "14 John moved to the bedroom.\n",
      "15 Where is Sandra? \tbathroom\n",
      "1 Mary went to the bedroom.\n",
      "2 John journeyed to the bathroom.\n",
      "3 Where is John? \tbathroom\n",
      "4 Sandra journeyed to the hallway.\n",
      "5 John journeyed to the garden.\n",
      "6 Where is Mary? \tbedroom\n",
      "7 John journeyed to the bathroom.\n",
      "8 Sandra journeyed to the garden.\n",
      "9 Where is John? \tbathroom\n",
      "10 Sandra went back to the bedroom.\n",
      "11 Daniel travelled to the bathroom.\n",
      "12 Where is John? \tbathroom\n",
      "13 John went to the office.\n",
      "14 Mary moved to the office.\n",
      "15 Where is Sandra? \tbedroom\n"
     ]
    }
   ],
   "source": [
    "# Download the data silently\n",
    "!python ~/ParlAI/examples/build_dict.py --task babi:task1k:1 --dict-file /tmp/babi1.dict\n",
    "# Print a few examples\n",
    "!head -n 30 ~/ParlAI/data/bAbI/tasks_1-20_v1-2/en-valid-10k-nosf/qa1_train.txt"
   ]
  },
  {
   "cell_type": "markdown",
   "metadata": {
    "colab_type": "text",
    "id": "vbc5n2xpPnsb"
   },
   "source": [
    "The bAbI tasks were downloaded in `~/ParlAI/data/bAbI/tasks_1-20_v1-2/en-valid-nosf/`\n",
    "\n",
    "In bAbI the data is organised as follows:\n",
    "- **Dialog turn**: A dialog turn is a single utterance / statement. Each line in the file corresponds to one dialog turn.   \n",
    "  Example: *\"John went to the office.\"*\n",
    "- **Sample (question)**: Every few dialog turns, a question can be asked that the model has to answer, this consitute a sample.  The question is followed by its ground truth answer, separated by a tab.\n",
    "  Example: *\"Where is John? `<tab>` bathroom\"*\n",
    "- **Episode**: a sequence of ordered coherent dialog turns that are related to each other form an episode. Each new episode is independant of the others. Each line starts with the dialog turn number in the current episode.\n",
    "\n",
    "\n",
    "---\n",
    "**Question 1.**\n",
    "- **1.a.** Look at the training file of task 1 (`~/ParlAI/data/bAbI/tasks_1-20_v1-2/en/qa1_train.txt`) and compute the following information:\n",
    "  - Number of episodes\n",
    "  - Number of  samples (questions)\n",
    "  - Number of dialog turns per episode\n",
    "  - How many different answers are there in the train set? How many times does each appear? (*hint: Use a python [counter](https://docs.python.org/3/library/collections.html#collections.Counter)*)\n",
    "  - How many unique words appear in the training set? How many time does each appear? (*hint: Use the Counter `most_common()` method*)\n",
    "\n",
    "*Print the answer in the following code cell*\n",
    "  \n",
    "  ---"
   ]
  },
  {
   "cell_type": "code",
   "execution_count": 5,
   "metadata": {
    "colab": {
     "base_uri": "https://localhost:8080/",
     "height": 156
    },
    "colab_type": "code",
    "id": "nk7B40wOf8nU",
    "outputId": "cee1059d-cb9a-4974-93da-e1780375e84c"
   },
   "outputs": [
    {
     "name": "stdout",
     "output_type": "stream",
     "text": [
      "Number of episodes: 1800\n",
      "Number of questions: 9000\n",
      "Number of dialog turns per episode: 15.0\n",
      "Possible answers: Counter({'bathroom': 1564, 'hallway': 1517, 'garden': 1508, 'bedroom': 1473, 'kitchen': 1471, 'office': 1467}) (6)\n",
      "Accuracy of a random model: 0.1667\n",
      "Vocabulary size: 24\n",
      "Most common words: [('to', 18000), ('the', 18000), ('Where', 9000), ('is', 9000), ('', 9000), ('went', 7225), ('Mary', 4535), ('Sandra', 4502), ('John', 4484), ('Daniel', 4479), ('journeyed', 3620), ('travelled', 3582), ('back', 3581), ('moved', 3573), ('bathroom.', 3070), ('hallway.', 3045), ('garden.', 2982), ('kitchen.', 2981), ('office.', 2963), ('bedroom.', 2959), ('John?', 2299), ('Mary?', 2265), ('Sandra?', 2244), ('Daniel?', 2192)]\n"
     ]
    }
   ],
   "source": [
    "# FILL THIS CELL\n",
    "from collections import Counter\n",
    "\n",
    "\n",
    "task_1_train_path = '/root/ParlAI/data/bAbI/tasks_1-20_v1-2/en-valid-10k-nosf/qa1_train.txt'\n",
    "i = 0\n",
    "n_episodes = 0\n",
    "n_questions = 0\n",
    "n_total_dialog_turns = 0\n",
    "possible_answers = Counter()\n",
    "vocabulary = Counter()\n",
    "with open(task_1_train_path, 'r') as f:\n",
    "    for line in f:\n",
    "        # Each line starts with an integer giving the dialog turn in the current episode.\n",
    "        # Each episode contains dialog turns with questions (with the answer next to it separated by a tab)\n",
    "        line = line.strip('\\n')\n",
    "        dialog_turn = int(line.split(' ')[0])\n",
    "        if dialog_turn == 1:\n",
    "            n_episodes += 1\n",
    "        # Remove the dialog turn number\n",
    "        line = ' '.join(line.split(' ')[1:])\n",
    "        fields = line.split('\\t')\n",
    "        if len(fields) > 1:\n",
    "            n_questions += 1\n",
    "            possible_answers.update([fields[1]])\n",
    "        vocabulary.update(fields[0].split(' '))\n",
    "        n_total_dialog_turns += 1\n",
    "print(f'Number of episodes: {n_episodes}')\n",
    "print(f'Number of questions: {n_questions}')\n",
    "print(f'Number of dialog turns per episode: {n_total_dialog_turns/n_episodes}')\n",
    "print(f'Possible answers: {possible_answers} ({len(possible_answers)})')\n",
    "print(f'Accuracy of a random model: {1/len(possible_answers):.4f}')\n",
    "print(f'Vocabulary size: {len(vocabulary)}')\n",
    "print(f'Most common words: {vocabulary.most_common()}')"
   ]
  },
  {
   "cell_type": "markdown",
   "metadata": {
    "colab_type": "text",
    "id": "XNYNtDHiuVq8"
   },
   "source": [
    "\n",
    "- **1.b.** Use the appropriate script from the `~/ParlAI/examples/` to take a quick look at examples of the first bAbI task.  \n",
    "Does the number of episodes and examples fit what you computed before? (*hint: you can use the argument `--task babi:task1k:1` to select the first babi task*)"
   ]
  },
  {
   "cell_type": "code",
   "execution_count": 6,
   "metadata": {
    "colab": {
     "base_uri": "https://localhost:8080/",
     "height": 1000
    },
    "colab_type": "code",
    "id": "f6HlIvzGgKv2",
    "outputId": "b31adffd-867a-4eb1-f7c1-6c4e1fd19a10"
   },
   "outputs": [
    {
     "name": "stdout",
     "output_type": "stream",
     "text": [
      "[ optional arguments: ] \n",
      "[  display_ignore_fields: agent_reply ]\n",
      "[  max_display_len: 1000 ]\n",
      "[  num_examples: 10 ]\n",
      "[ Main ParlAI Arguments: ] \n",
      "[  batchsize: 1 ]\n",
      "[  datapath: /root/ParlAI/data ]\n",
      "[  datatype: train:stream ]\n",
      "[  download_path: /root/ParlAI/downloads ]\n",
      "[  hide_labels: False ]\n",
      "[  image_mode: raw ]\n",
      "[  multitask_weights: [1] ]\n",
      "[  numthreads: 1 ]\n",
      "[  show_advanced_args: False ]\n",
      "[  task: babi:task10k:1 ]\n",
      "[ ParlAI Model Arguments: ] \n",
      "[  dict_class: None ]\n",
      "[  init_model: None ]\n",
      "[  model: None ]\n",
      "[  model_file: None ]\n",
      "[ PytorchData Arguments: ] \n",
      "[  batch_length_range: 5 ]\n",
      "[  batch_sort_cache_type: pop ]\n",
      "[  batch_sort_field: text ]\n",
      "[  numworkers: 4 ]\n",
      "[  pytorch_context_length: -1 ]\n",
      "[  pytorch_datapath: None ]\n",
      "[  pytorch_include_labels: True ]\n",
      "[  pytorch_preprocess: False ]\n",
      "[  pytorch_teacher_batch_sort: False ]\n",
      "[  pytorch_teacher_dataset: None ]\n",
      "[  pytorch_teacher_task: None ]\n",
      "[  shuffle: False ]\n",
      "[ ParlAI Image Preprocessing Arguments: ] \n",
      "[  image_cropsize: 224 ]\n",
      "[  image_size: 256 ]\n",
      "[creating task(s): babi:task10k:1]\n",
      "[loading fbdialog data:/root/ParlAI/data/bAbI/tasks_1-20_v1-2/en-valid-10k-nosf/qa1_train.txt]\n",
      "[loading fbdialog data:/root/ParlAI/data/bAbI/tasks_1-20_v1-2/en-valid-10k-nosf/qa1_train.txt]\n",
      "[babi:task10k:1]: Mary moved to the bathroom.\n",
      "John went to the hallway.\n",
      "Where is Mary?\n",
      "[label_candidates: kitchen|hallway|office|bedroom|garden|...and 1 more]\n",
      "[labels: bathroom]\n",
      "~~\n",
      "[babi:task10k:1]: Daniel went back to the hallway.\n",
      "Sandra moved to the garden.\n",
      "Where is Daniel?\n",
      "[label_candidates: kitchen|hallway|office|bedroom|garden|...and 1 more]\n",
      "[labels: hallway]\n",
      "~~\n",
      "[babi:task10k:1]: John moved to the office.\n",
      "Sandra journeyed to the bathroom.\n",
      "Where is Daniel?\n",
      "[label_candidates: kitchen|hallway|office|bedroom|garden|...and 1 more]\n",
      "[labels: hallway]\n",
      "~~\n",
      "[babi:task10k:1]: Mary moved to the hallway.\n",
      "Daniel travelled to the office.\n",
      "Where is Daniel?\n",
      "[label_candidates: kitchen|hallway|office|bedroom|garden|...and 1 more]\n",
      "[labels: office]\n",
      "~~\n",
      "[babi:task10k:1]: John went back to the garden.\n",
      "John moved to the bedroom.\n",
      "Where is Sandra?\n",
      "[label_candidates: kitchen|hallway|office|bedroom|garden|...and 1 more]\n",
      "[labels: bathroom]\n",
      "- - - - - - - - - - - - - - - - - - - - -\n",
      "~~\n",
      "[babi:task10k:1]: Mary went to the bedroom.\n",
      "John journeyed to the bathroom.\n",
      "Where is John?\n",
      "[label_candidates: kitchen|hallway|office|bedroom|garden|...and 1 more]\n",
      "[labels: bathroom]\n",
      "~~\n",
      "[babi:task10k:1]: Sandra journeyed to the hallway.\n",
      "John journeyed to the garden.\n",
      "Where is Mary?\n",
      "[label_candidates: kitchen|hallway|office|bedroom|garden|...and 1 more]\n",
      "[labels: bedroom]\n",
      "~~\n",
      "[babi:task10k:1]: John journeyed to the bathroom.\n",
      "Sandra journeyed to the garden.\n",
      "Where is John?\n",
      "[label_candidates: kitchen|hallway|office|bedroom|garden|...and 1 more]\n",
      "[labels: bathroom]\n",
      "~~\n",
      "[babi:task10k:1]: Sandra went back to the bedroom.\n",
      "Daniel travelled to the bathroom.\n",
      "Where is John?\n",
      "[label_candidates: kitchen|hallway|office|bedroom|garden|...and 1 more]\n",
      "[labels: bathroom]\n",
      "~~\n",
      "[babi:task10k:1]: John went to the office.\n",
      "Mary moved to the office.\n",
      "Where is Sandra?\n",
      "[label_candidates: kitchen|hallway|office|bedroom|garden|...and 1 more]\n",
      "[labels: bedroom]\n",
      "- - - - - - - - - - - - - - - - - - - - -\n",
      "~~\n",
      "[ loaded 1800 episodes with a total of 9000 examples ]\n"
     ]
    }
   ],
   "source": [
    "# FILL THIS CELL\n",
    "!python ~/ParlAI/examples/display_data.py --task babi:task10k:1"
   ]
  },
  {
   "cell_type": "markdown",
   "metadata": {
    "colab_type": "text",
    "id": "TovRmKOA858i"
   },
   "source": [
    "## 2. Metrics"
   ]
  },
  {
   "cell_type": "markdown",
   "metadata": {
    "colab_type": "text",
    "id": "g9NV_vBlPSWP"
   },
   "source": [
    "The bAbI task 1 expects single word answers among a small set of possible answers.\n",
    "\n",
    "\n",
    "---\n",
    "**Question 2**  \n",
    "- **2.a.** Which metrics do you think are appropriate for evaluating a model on this task?   \n",
    "-  **2.b.**  What are their respective strengths?  \n",
    "-  **2.c.** When do they fail? (find specific examples)  \n",
    "\n",
    "\n",
    "*ANSWER HERE* \n",
    "\n",
    "2.a \n",
    "\n",
    "The metrics to use are:\n",
    "- Accuracy\n",
    "- F1 score.\n",
    "\n",
    "2.b\n",
    "\n",
    "- The strength of F1 is that it controls both the false negatives and the false positives. A good F1 score means that you have low false positives and low false negatives, so you’re correctly identifying real threats and you are not disturbed by false alarms.\n",
    "\n",
    "- The Accuracy on the other side can tell us immediately whether a model is being trained correctly and how it may perform generally.\n",
    "\n",
    "\n",
    "2.c\n",
    "\n",
    "- The Accuracy metric fails when we have an imbalance in the labels. For example, let's say our data contains 90% of a certain label and the rest of the labels occupy the remaining 10%. If the model only predicts the majority class, then it would have an accuracy of 90% though the model is bad. \n",
    "\n",
    "- The weakness of F1 score is that it does not take into account the true negatives and this can mislead in case of unbalanced labels.\n",
    "\n",
    "\n",
    "\n",
    "\n",
    "\n",
    "\n",
    "---"
   ]
  },
  {
   "cell_type": "markdown",
   "metadata": {
    "colab_type": "text",
    "id": "0_MZKCTW6fh9"
   },
   "source": [
    "## 3. Baseline\n",
    "\n"
   ]
  },
  {
   "cell_type": "markdown",
   "metadata": {
    "colab_type": "text",
    "id": "RSexIY71yiD6"
   },
   "source": [
    "We now have a clearer idea of the data distribution and the metrics that we can use.  \n",
    "The next step is to start solving the tasks with a simple baseline. This will allow us to compare more elaborate models agains this baseline.  \n",
    "Here are a few classical baselines:\n",
    "- **Random model**: The model answers randomly among the set of possible answers for each question\n",
    "-  **Majority class**: The model always answers with the most frequent answer in the training set (majority class)\n",
    "\n",
    "We are going to reimplement these own baselines.  \n",
    "Implementing a new model in ParlAI is detailed in the [tutorial](http://parl.ai/static/docs/seq2seq_tutorial.html) but for our simple baselines, we will only need to inherit the [Agent](https://github.com/facebookresearch/ParlAI/blob/6d246842d3f4e941dd3806f3d9fa62f607d48f59/parlai/core/agents.py#L50) class and override the `act()` method.\n",
    "\n",
    "---\n",
    "**Question 3**  \n",
    "- **3.a.** What would be the accuracy of a model that choses a random answer among the set of possible answers for each question? \n",
    "\n",
    "*ANSWER HERE*\n",
    "- With the above dataset where the 6 labels are almost balanced, a random model would have an accuracy of 16.6% = (1/6)%\n",
    "---\n",
    "\n",
    "*Note: the `%%writefile` magic command in jupyter writes the content of the cell to a file at the given path.*"
   ]
  },
  {
   "cell_type": "code",
   "execution_count": null,
   "metadata": {
    "colab": {},
    "colab_type": "code",
    "id": "9ahmFL0Rk6g1"
   },
   "outputs": [],
   "source": [
    "!mkdir -p ~/ParlAI/parlai/agents/baseline/\n",
    "!touch ~/ParlAI/parlai/agents/baseline/random.py\n",
    "!touch ~/ParlAI/parlai/agents/baseline/majorityclass.py"
   ]
  },
  {
   "cell_type": "markdown",
   "metadata": {
    "colab_type": "text",
    "id": "mZLM7DtkkJN1"
   },
   "source": [
    "- **3.b.**  Design a baseline that answers a random word in the set of possible answer (run it multiple time to observe variance in results)."
   ]
  },
  {
   "cell_type": "code",
   "execution_count": 8,
   "metadata": {
    "colab": {
     "base_uri": "https://localhost:8080/",
     "height": 34
    },
    "colab_type": "code",
    "id": "Zx4emBSPjmE-",
    "outputId": "72aa1cf4-a8ec-4780-f0c6-4a715abd23ab"
   },
   "outputs": [
    {
     "name": "stdout",
     "output_type": "stream",
     "text": [
      "Overwriting /root/ParlAI/parlai/agents/baseline/random.py\n"
     ]
    }
   ],
   "source": [
    "%%writefile ~/ParlAI/parlai/agents/baseline/random.py\n",
    "import random\n",
    "\n",
    "from parlai.core.torch_agent import Agent\n",
    "\n",
    "\n",
    "class RandomAgent(Agent):\n",
    "  \n",
    "    def act(self):\n",
    "        if 'label_candidates' not in self.observation:\n",
    "            return\n",
    "        candidates = list(self.observation['label_candidates'])\n",
    "        reply = {'text': candidates[random.randrange(len(candidates))]}\n",
    "        return reply"
   ]
  },
  {
   "cell_type": "code",
   "execution_count": 9,
   "metadata": {
    "colab": {
     "base_uri": "https://localhost:8080/",
     "height": 34
    },
    "colab_type": "code",
    "id": "dMOWxgVj1Joz",
    "outputId": "cf46223f-2962-4824-df5e-84ad4ab70041"
   },
   "outputs": [
    {
     "name": "stdout",
     "output_type": "stream",
     "text": [
      "{'exs': 1000, 'accuracy': 0.176, 'f1': 0.176, 'bleu': 1.76e-10}\n"
     ]
    }
   ],
   "source": [
    "!python ~/ParlAI/examples/eval_model.py -t babi:task10k:1 -m baseline/random | grep accuracy -A 1"
   ]
  },
  {
   "cell_type": "code",
   "execution_count": 13,
   "metadata": {
    "colab": {
     "base_uri": "https://localhost:8080/",
     "height": 1000
    },
    "colab_type": "code",
    "id": "oVs3pOKE2-WE",
    "outputId": "9f1e062b-0b28-4f70-cec6-8151ce8037f6"
   },
   "outputs": [
    {
     "name": "stdout",
     "output_type": "stream",
     "text": [
      "[ optional arguments: ] \n",
      "[  display_ignore_fields:  ]\n",
      "[  num_examples: 10 ]\n",
      "[ Main ParlAI Arguments: ] \n",
      "[  batchsize: 1 ]\n",
      "[  datapath: /root/ParlAI/data ]\n",
      "[  datatype: valid ]\n",
      "[  download_path: /root/ParlAI/downloads ]\n",
      "[  hide_labels: False ]\n",
      "[  image_mode: raw ]\n",
      "[  multitask_weights: [1] ]\n",
      "[  numthreads: 1 ]\n",
      "[  show_advanced_args: False ]\n",
      "[  task: babi:task10k:1 ]\n",
      "[ ParlAI Model Arguments: ] \n",
      "[  dict_class: None ]\n",
      "[  init_model: None ]\n",
      "[  model: baseline/random ]\n",
      "[  model_file: None ]\n",
      "[ ParlAI Image Preprocessing Arguments: ] \n",
      "[  image_cropsize: 224 ]\n",
      "[  image_size: 256 ]\n",
      "[creating task(s): babi:task10k:1]\n",
      "[loading fbdialog data:/root/ParlAI/data/bAbI/tasks_1-20_v1-2/en-valid-10k-nosf/qa1_valid.txt]\n",
      "[babi:task10k:1]: Sandra travelled to the office.\n",
      "Sandra went to the bathroom.\n",
      "Where is Sandra?\n",
      "[eval_labels: bathroom]\n",
      "[label_candidates: bathroom|bedroom|kitchen|hallway|office|...and 1 more]\n",
      "   garden\n",
      "~~\n",
      "[babi:task10k:1]: Mary went to the bedroom.\n",
      "Daniel moved to the hallway.\n",
      "Where is Sandra?\n",
      "[eval_labels: bathroom]\n",
      "[label_candidates: bathroom|bedroom|kitchen|hallway|office|...and 1 more]\n",
      "   bathroom\n",
      "~~\n",
      "[babi:task10k:1]: John went to the garden.\n",
      "John travelled to the office.\n",
      "Where is Sandra?\n",
      "[eval_labels: bathroom]\n",
      "[label_candidates: bathroom|bedroom|kitchen|hallway|office|...and 1 more]\n",
      "   bathroom\n",
      "~~\n",
      "[babi:task10k:1]: Daniel journeyed to the bedroom.\n",
      "Daniel travelled to the hallway.\n",
      "Where is John?\n",
      "[eval_labels: office]\n",
      "[label_candidates: bathroom|bedroom|kitchen|hallway|office|...and 1 more]\n",
      "   garden\n",
      "~~\n",
      "[babi:task10k:1]: John went to the bedroom.\n",
      "John travelled to the office.\n",
      "Where is Daniel?\n",
      "[eval_labels: hallway]\n",
      "[label_candidates: bathroom|bedroom|kitchen|hallway|office|...and 1 more]\n",
      "   kitchen\n",
      "- - - - - - - - - - - - - - - - - - - - -\n",
      "~~\n",
      "[babi:task10k:1]: Sandra went back to the bathroom.\n",
      "Mary moved to the garden.\n",
      "Where is Mary?\n",
      "[eval_labels: garden]\n",
      "[label_candidates: bathroom|bedroom|kitchen|hallway|office|...and 1 more]\n",
      "   bedroom\n",
      "~~\n",
      "[babi:task10k:1]: Mary went back to the hallway.\n",
      "Sandra went to the office.\n",
      "Where is Sandra?\n",
      "[eval_labels: office]\n",
      "[label_candidates: bathroom|bedroom|kitchen|hallway|office|...and 1 more]\n",
      "   bedroom\n",
      "~~\n",
      "[babi:task10k:1]: John went back to the hallway.\n",
      "John travelled to the office.\n",
      "Where is Sandra?\n",
      "[eval_labels: office]\n",
      "[label_candidates: bathroom|bedroom|kitchen|hallway|office|...and 1 more]\n",
      "   bedroom\n",
      "~~\n",
      "[babi:task10k:1]: Sandra journeyed to the hallway.\n",
      "Daniel moved to the office.\n",
      "Where is John?\n",
      "[eval_labels: office]\n",
      "[label_candidates: bathroom|bedroom|kitchen|hallway|office|...and 1 more]\n",
      "   garden\n",
      "~~\n",
      "[babi:task10k:1]: Mary went to the office.\n",
      "Sandra went to the office.\n",
      "Where is John?\n",
      "[eval_labels: office]\n",
      "[label_candidates: bathroom|bedroom|kitchen|hallway|office|...and 1 more]\n",
      "   bathroom\n",
      "- - - - - - - - - - - - - - - - - - - - -\n",
      "~~\n"
     ]
    }
   ],
   "source": [
    "!python ~/ParlAI/examples/display_model.py -t babi:task10k:1 -m baseline/random -n 10 "
   ]
  },
  {
   "cell_type": "markdown",
   "metadata": {
    "colab_type": "text",
    "id": "3UnE4oVakR4k"
   },
   "source": [
    "- **3.c.**  Design a baseline that answers the most common answer every time (majority class baseline)."
   ]
  },
  {
   "cell_type": "code",
   "execution_count": 10,
   "metadata": {
    "colab": {
     "base_uri": "https://localhost:8080/",
     "height": 34
    },
    "colab_type": "code",
    "id": "hHIV2NUzGzQc",
    "outputId": "422a7252-2123-4b95-9b6a-c37965d094cc"
   },
   "outputs": [
    {
     "name": "stdout",
     "output_type": "stream",
     "text": [
      "Overwriting /root/ParlAI/parlai/agents/baseline/majorityclass.py\n"
     ]
    }
   ],
   "source": [
    "# FILL THIS CELL\n",
    "%%writefile ~/ParlAI/parlai/agents/baseline/majorityclass.py\n",
    "import random\n",
    "\n",
    "from parlai.core.torch_agent import Agent\n",
    "\n",
    "\n",
    "class MajorityclassAgent(Agent):\n",
    "  \n",
    "    def act(self):\n",
    "        if 'label_candidates' not in self.observation:\n",
    "            return\n",
    "        candidates = list(self.observation['label_candidates'])\n",
    "        reply = {'text': 'bathroom'}\n",
    "        return reply\n"
   ]
  },
  {
   "cell_type": "code",
   "execution_count": 11,
   "metadata": {
    "colab": {
     "base_uri": "https://localhost:8080/",
     "height": 34
    },
    "colab_type": "code",
    "id": "U34z6bx0lJV9",
    "outputId": "6784f126-5f35-4e3e-856e-c81c18122e68"
   },
   "outputs": [
    {
     "name": "stdout",
     "output_type": "stream",
     "text": [
      "{'exs': 1000, 'accuracy': 0.169, 'f1': 0.169, 'bleu': 1.69e-10}\n"
     ]
    }
   ],
   "source": [
    "!python ~/ParlAI/examples/eval_model.py -t babi:task10k:1 -m baseline/majorityclass | grep accuracy -A 1"
   ]
  },
  {
   "cell_type": "code",
   "execution_count": 12,
   "metadata": {
    "colab": {
     "base_uri": "https://localhost:8080/",
     "height": 1000
    },
    "colab_type": "code",
    "id": "X8LHkfUS3AL0",
    "outputId": "909a94d3-d0f5-46b8-f509-5155f6a12a50"
   },
   "outputs": [
    {
     "name": "stdout",
     "output_type": "stream",
     "text": [
      "[ optional arguments: ] \n",
      "[  display_ignore_fields:  ]\n",
      "[  num_examples: 10 ]\n",
      "[ Main ParlAI Arguments: ] \n",
      "[  batchsize: 1 ]\n",
      "[  datapath: /root/ParlAI/data ]\n",
      "[  datatype: valid ]\n",
      "[  download_path: /root/ParlAI/downloads ]\n",
      "[  hide_labels: False ]\n",
      "[  image_mode: raw ]\n",
      "[  multitask_weights: [1] ]\n",
      "[  numthreads: 1 ]\n",
      "[  show_advanced_args: False ]\n",
      "[  task: babi:task10k:1 ]\n",
      "[ ParlAI Model Arguments: ] \n",
      "[  dict_class: None ]\n",
      "[  init_model: None ]\n",
      "[  model: baseline/majorityclass ]\n",
      "[  model_file: None ]\n",
      "[ ParlAI Image Preprocessing Arguments: ] \n",
      "[  image_cropsize: 224 ]\n",
      "[  image_size: 256 ]\n",
      "[creating task(s): babi:task10k:1]\n",
      "[loading fbdialog data:/root/ParlAI/data/bAbI/tasks_1-20_v1-2/en-valid-10k-nosf/qa1_valid.txt]\n",
      "[babi:task10k:1]: Sandra travelled to the office.\n",
      "Sandra went to the bathroom.\n",
      "Where is Sandra?\n",
      "[label_candidates: office|hallway|bathroom|kitchen|bedroom|...and 1 more]\n",
      "[eval_labels: bathroom]\n",
      "   bathroom\n",
      "~~\n",
      "[babi:task10k:1]: Mary went to the bedroom.\n",
      "Daniel moved to the hallway.\n",
      "Where is Sandra?\n",
      "[label_candidates: office|hallway|bathroom|kitchen|bedroom|...and 1 more]\n",
      "[eval_labels: bathroom]\n",
      "   bathroom\n",
      "~~\n",
      "[babi:task10k:1]: John went to the garden.\n",
      "John travelled to the office.\n",
      "Where is Sandra?\n",
      "[label_candidates: office|hallway|bathroom|kitchen|bedroom|...and 1 more]\n",
      "[eval_labels: bathroom]\n",
      "   bathroom\n",
      "~~\n",
      "[babi:task10k:1]: Daniel journeyed to the bedroom.\n",
      "Daniel travelled to the hallway.\n",
      "Where is John?\n",
      "[label_candidates: office|hallway|bathroom|kitchen|bedroom|...and 1 more]\n",
      "[eval_labels: office]\n",
      "   bathroom\n",
      "~~\n",
      "[babi:task10k:1]: John went to the bedroom.\n",
      "John travelled to the office.\n",
      "Where is Daniel?\n",
      "[label_candidates: office|hallway|bathroom|kitchen|bedroom|...and 1 more]\n",
      "[eval_labels: hallway]\n",
      "   bathroom\n",
      "- - - - - - - - - - - - - - - - - - - - -\n",
      "~~\n",
      "[babi:task10k:1]: Sandra went back to the bathroom.\n",
      "Mary moved to the garden.\n",
      "Where is Mary?\n",
      "[label_candidates: office|hallway|bathroom|kitchen|bedroom|...and 1 more]\n",
      "[eval_labels: garden]\n",
      "   bathroom\n",
      "~~\n",
      "[babi:task10k:1]: Mary went back to the hallway.\n",
      "Sandra went to the office.\n",
      "Where is Sandra?\n",
      "[label_candidates: office|hallway|bathroom|kitchen|bedroom|...and 1 more]\n",
      "[eval_labels: office]\n",
      "   bathroom\n",
      "~~\n",
      "[babi:task10k:1]: John went back to the hallway.\n",
      "John travelled to the office.\n",
      "Where is Sandra?\n",
      "[label_candidates: office|hallway|bathroom|kitchen|bedroom|...and 1 more]\n",
      "[eval_labels: office]\n",
      "   bathroom\n",
      "~~\n",
      "[babi:task10k:1]: Sandra journeyed to the hallway.\n",
      "Daniel moved to the office.\n",
      "Where is John?\n",
      "[label_candidates: office|hallway|bathroom|kitchen|bedroom|...and 1 more]\n",
      "[eval_labels: office]\n",
      "   bathroom\n",
      "~~\n",
      "[babi:task10k:1]: Mary went to the office.\n",
      "Sandra went to the office.\n",
      "Where is John?\n",
      "[label_candidates: office|hallway|bathroom|kitchen|bedroom|...and 1 more]\n",
      "[eval_labels: office]\n",
      "   bathroom\n",
      "- - - - - - - - - - - - - - - - - - - - -\n",
      "~~\n"
     ]
    }
   ],
   "source": [
    "!python ~/ParlAI/examples/display_model.py -t babi:task10k:1 -m baseline/majorityclass -n 10"
   ]
  },
  {
   "cell_type": "markdown",
   "metadata": {
    "colab_type": "text",
    "id": "BOW4ZTSekWt9"
   },
   "source": [
    "---\n",
    "- **3.d.**  In which cases would the majority class baseline be better than the random baseline?\n",
    "\n",
    "*ANSWER HERE*\n",
    "- The majority class baseline will be better than the random baseline in case the majority class highly dominates the rest of the classes (for example 80% of the classes are the majority class)\n",
    "---"
   ]
  },
  {
   "cell_type": "markdown",
   "metadata": {
    "colab_type": "text",
    "id": "layL9aTK_D1a"
   },
   "source": [
    "Another slightly more advanced baseline is implemented in ParlAI: the information retrieval baseline (`ir_baseline`)\n",
    "\n",
    "---\n",
    "- **3.e.** Look at the [implementation](https://github.com/facebookresearch/ParlAI/blob/53ea58acf389bffc79c85c43bcdd848eecdcecb4/parlai/agents/ir_baseline/ir_baseline.py#L211) of the IR baseline and explain in a few lines how it works (*hint: look at the following methods `act()` `rank_candidates()`  `score_match()`*)  \n",
    "\n",
    "*ANSWER HERE*\n",
    "\n",
    "The IR baseline works the following way:\n",
    "The act() method tries to generate a response to the previously seen observations. Before the reply is given, the act() method calls the rank_candidates() to rank the available candidates. The rank_candidates() in turn calls the score_match() which gives a score to the candidates in order to rank them (according to their similarity with the input message). The best candidate is then returned by the act() method. If no candidate is available, the act() method replies \"I don't know\".\n",
    "\n",
    "---"
   ]
  },
  {
   "cell_type": "markdown",
   "metadata": {
    "colab_type": "text",
    "id": "oKo6zJHwksKA"
   },
   "source": [
    "- **3.f.** Use the IR baseline and compare its with one of your baselines (random and/or majority) on bAbI tasks 1, 2 and 3.  \n",
    "    (*hint: you can use `!python ... -t babi:task1-k:{i+1}` syntax to substitute the task number in a bash command from jupyter*)\n"
   ]
  },
  {
   "cell_type": "code",
   "execution_count": 13,
   "metadata": {
    "colab": {
     "base_uri": "https://localhost:8080/",
     "height": 292
    },
    "colab_type": "code",
    "id": "EzBAEWP7k10U",
    "outputId": "9777a34f-9e5c-4f9f-cf4c-d35deba8d7d0"
   },
   "outputs": [
    {
     "name": "stdout",
     "output_type": "stream",
     "text": [
      "~ Task 1 ~\n",
      "Random baseline:\n",
      "{'exs': 1000, 'accuracy': 0.166, 'f1': 0.166, 'bleu': 1.66e-10}\n",
      "IR baseline:\n",
      "{'exs': 1000, 'accuracy': 0.465, 'f1': 0.465, 'hits@1': 0.465, 'hits@5': 0.961, 'hits@10': 1.0, 'hits@100': 1.0, 'bleu': 4.65e-10}\n",
      "~ Task 2 ~\n",
      "Random baseline:\n",
      "{'exs': 1000, 'accuracy': 0.159, 'f1': 0.159, 'bleu': 1.59e-10}\n",
      "IR baseline:\n",
      "{'exs': 1000, 'accuracy': 0.284, 'f1': 0.284, 'hits@1': 0.284, 'hits@5': 0.9, 'hits@10': 1.0, 'hits@100': 1.0, 'bleu': 2.84e-10}\n",
      "~ Task 3 ~\n",
      "Random baseline:\n",
      "{'exs': 1000, 'accuracy': 0.165, 'f1': 0.165, 'bleu': 1.65e-10}\n",
      "IR baseline:\n",
      "{'exs': 1000, 'accuracy': 0.132, 'f1': 0.132, 'hits@1': 0.132, 'hits@5': 0.836, 'hits@10': 1.0, 'hits@100': 1.0, 'bleu': 1.32e-10}\n"
     ]
    }
   ],
   "source": [
    "# FILL THIS CELL\n",
    "for i in range(3):\n",
    "    print(f'~ Task {i+1} ~')\n",
    "    print('Random baseline:')\n",
    "    !python ~/ParlAI/examples/eval_model.py -t babi:task10k:{i+1} -m baseline/random | grep accuracy\n",
    "    print('IR baseline:')\n",
    "    !python ~/ParlAI/examples/eval_model.py -t babi:task10k:{i+1} -m ir_baseline | grep accuracy"
   ]
  },
  {
   "cell_type": "markdown",
   "metadata": {
    "colab_type": "text",
    "id": "xZGFSbEwJdvx"
   },
   "source": [
    "## 4. More elaborate models\n",
    "\n"
   ]
  },
  {
   "cell_type": "markdown",
   "metadata": {
    "colab_type": "text",
    "id": "wj7onBcoyoZz"
   },
   "source": [
    "We can now continue to more elaborate models and evaluate their performance in perspective to the baselines.\n",
    "We will use the `~/ParlAI/examples/train_model.py` script. Let's first get a glance at its arguments:"
   ]
  },
  {
   "cell_type": "code",
   "execution_count": 14,
   "metadata": {
    "colab": {
     "base_uri": "https://localhost:8080/",
     "height": 1000
    },
    "colab_type": "code",
    "id": "gZa5Xl5Bxxxe",
    "outputId": "7f6b662f-ead1-4813-9848-39ebe797e443"
   },
   "outputs": [
    {
     "name": "stdout",
     "output_type": "stream",
     "text": [
      "usage: train_model.py [-h] [-v] [-t TASK]\n",
      "                      [-dt {train,train:stream,train:ordered,train:ordered:stream,train:stream:ordered,train:evalmode,train:evalmode:stream,train:evalmode:ordered,train:evalmode:ordered:stream,train:evalmode:stream:ordered,valid,valid:stream,test,test:stream}]\n",
      "                      [-nt NUMTHREADS] [-bs BATCHSIZE] [-dp DATAPATH] [-m MODEL] [-mf MODEL_FILE] [-im INIT_MODEL] [-et EVALTASK]\n",
      "                      [-eps NUM_EPOCHS] [-ttim MAX_TRAIN_TIME] [-vtim VALIDATION_EVERY_N_SECS] [-stim SAVE_EVERY_N_SECS]\n",
      "                      [-sval SAVE_AFTER_VALID] [-veps VALIDATION_EVERY_N_EPOCHS] [-vp VALIDATION_PATIENCE]\n",
      "                      [-vmt VALIDATION_METRIC] [-vmm {max,min}] [-pyt PYTORCH_TEACHER_TASK] [-pytd PYTORCH_TEACHER_DATASET]\n",
      "\n",
      "Train a model\n",
      "\n",
      "optional arguments:\n",
      "  -h, --help\n",
      "        show this help message and exit\n",
      "\n",
      "Main ParlAI Arguments:\n",
      "  -v, --show-advanced-args\n",
      "        Show hidden command line options (advanced users only) (default: False)\n",
      "  -t, --task TASK\n",
      "        ParlAI task(s), e.g. \"babi:Task1\" or \"babi,cbt\" (default: None)\n",
      "  -dt, --datatype {train,train:stream,train:ordered,train:ordered:stream,train:stream:ordered,train:evalmode,train:evalmode:stream,train:evalmode:ordered,train:evalmode:ordered:stream,train:evalmode:stream:ordered,valid,valid:stream,test,test:stream}\n",
      "        choose from: train, train:ordered, valid, test. to stream data add \":stream\" to any option (e.g., train:stream). by\n",
      "        default: train is random with replacement, valid is ordered, test is ordered. (default: train)\n",
      "  -nt, --numthreads NUMTHREADS\n",
      "        number of threads. Used for hogwild if batchsize is 1, else for number of threads in threadpool loading, (default: 1)\n",
      "  -bs, --batchsize BATCHSIZE\n",
      "        batch size for minibatch training schemes (default: 1)\n",
      "  -dp, --datapath DATAPATH\n",
      "        path to datasets, defaults to {parlai_dir}/data (default: /root/ParlAI/data)\n",
      "\n",
      "ParlAI Model Arguments:\n",
      "  -m, --model MODEL\n",
      "        the model class name. can match parlai/agents/<model> for agents in that directory, or can provide a fully specified\n",
      "        module for `from X import Y` via `-m X:Y` (e.g. `-m parlai.agents.seq2seq.seq2seq:Seq2SeqAgent`) (default: None)\n",
      "  -mf, --model-file MODEL_FILE\n",
      "        model file name for loading and saving models (default: None)\n",
      "  -im, --init-model INIT_MODEL\n",
      "        load model weights and dict from this file (default: None)\n",
      "\n",
      "Training Loop Arguments:\n",
      "  -et, --evaltask EVALTASK\n",
      "        task to use for valid/test (defaults to the one used for training if not set) (default: None)\n",
      "  -eps, --num-epochs NUM_EPOCHS\n",
      "  -ttim, --max-train-time MAX_TRAIN_TIME\n",
      "  -vtim, --validation-every-n-secs VALIDATION_EVERY_N_SECS\n",
      "        Validate every n seconds. Saves model to model_file (if set) whenever best val metric is found (default: -1)\n",
      "  -stim, --save-every-n-secs SAVE_EVERY_N_SECS\n",
      "        Saves the model to model_file.checkpoint after every n seconds (default -1, never). (default: -1)\n",
      "  -sval, --save-after-valid SAVE_AFTER_VALID\n",
      "        Saves the model to model_file.checkpoint after every validation (default False).\n",
      "  -veps, --validation-every-n-epochs VALIDATION_EVERY_N_EPOCHS\n",
      "        Validate every n epochs. Saves model to model_file (if set) whenever best val metric is found (default: -1)\n",
      "  -vp, --validation-patience VALIDATION_PATIENCE\n",
      "        number of iterations of validation where result does not improve before we stop training (default: 10)\n",
      "  -vmt, --validation-metric VALIDATION_METRIC\n",
      "        key into report table for selecting best validation (default: accuracy)\n",
      "  -vmm, --validation-metric-mode {max,min}\n",
      "        how to optimize validation metric (max or min) (default: None)\n",
      "\n",
      "PytorchData Arguments:\n",
      "  -pyt, --pytorch-teacher-task PYTORCH_TEACHER_TASK\n",
      "        Use the PytorchDataTeacher for multiprocessed data loading with a standard ParlAI task, e.g. \"babi:Task1k\" (default: None)\n",
      "  -pytd, --pytorch-teacher-dataset PYTORCH_TEACHER_DATASET\n",
      "        Use the PytorchDataTeacher for multiprocessed data loading with a pytorch Dataset, e.g. \"vqa_1\" or \"flickr30k\" (default:\n",
      "        None)\n"
     ]
    }
   ],
   "source": [
    "!python ~/ParlAI/examples/train_model.py --help"
   ]
  },
  {
   "cell_type": "markdown",
   "metadata": {
    "colab_type": "text",
    "id": "s2apZUNj6JrS"
   },
   "source": [
    "We can train two types of models:\n",
    "- **Generative models**: The model generates an answer from its vocabulary.\n",
    "- **Ranking models**: The model is given a list of possible answers and has to choose the correct answer. This is much easier for the model since the list of possible answers is often way smaller than the size of the vocabulary\n"
   ]
  },
  {
   "cell_type": "markdown",
   "metadata": {
    "colab_type": "text",
    "id": "HdBwoP2K36DH"
   },
   "source": [
    "### Generative model: seq2seq with attention\n",
    "\n",
    "The generative model we are going to train is a sequence to sequence model with attention based on [Sustskever et al. 2014](https://arxiv.org/abs/1409.3215) and [Bahdanau et al. 2014](https://arxiv.org/abs/1409.0473).\n",
    "      \n",
    "- **4.a.** Briefly explain how attention works in sequence to sequence neural networks.\n",
    "\n",
    "-Given an input sequence, the encoder computes a hidden state for each of the tokens (or inputs). The attention mechanism now helps the decoder to focus on the parts of the input sequence that are relevant to this decoding time step. For this, a score is given at each of the hidden states followed by the multiplication of each hidden state by its softmaxed score, thus amplifying hidden states with high scores, and drowning out hidden states with low scores.\n",
    "\n",
    "- **4.b.** Do you think attention is useful for the babi tasks? How would you verify it experimentally?\n",
    "\n",
    "-Yes attention is useful for the bAbI tasks because some of the tasks have many Supporting Facts. Good models using attention mechanism can be tested on bAbI tasks for evaluation of their performance. \n",
    "\n",
    "-To verify the importance of attention on bAbI tasks, we can train and test a model with attention and a model without attention to observe their respective performance on the tasks.\n",
    "- **4.c.** Train a seq2seq on bAbI task 1 (10k) and compare its results to the baselines.\n",
    "   (*hint: for faster training use the following arguments `--batchsize 32 --numthreads 1 --num-epochs 5 --hiddensize 64 --embeddingsize 64 --numlayers 1 --decoder shared`)\n"
   ]
  },
  {
   "cell_type": "code",
   "execution_count": 19,
   "metadata": {
    "colab": {
     "base_uri": "https://localhost:8080/",
     "height": 1000
    },
    "colab_type": "code",
    "id": "VIpwQj4NpY5s",
    "outputId": "26145861-01b8-46de-b4ad-b1b551d8f57e"
   },
   "outputs": [
    {
     "name": "stdout",
     "output_type": "stream",
     "text": [
      "[ Main ParlAI Arguments: ] \n",
      "[  batchsize: 32 ]\n",
      "[  datapath: /root/ParlAI/data ]\n",
      "[  datatype: train ]\n",
      "[  download_path: /root/ParlAI/downloads ]\n",
      "[  hide_labels: False ]\n",
      "[  image_mode: raw ]\n",
      "[  multitask_weights: [1] ]\n",
      "[  numthreads: 1 ]\n",
      "[  show_advanced_args: False ]\n",
      "[  task: babi:task10k:1 ]\n",
      "[ ParlAI Model Arguments: ] \n",
      "[  dict_class: parlai.core.dict:DictionaryAgent ]\n",
      "[  init_model: None ]\n",
      "[  model: seq2seq ]\n",
      "[  model_file: /tmp/babi_s2s ]\n",
      "[ Training Loop Arguments: ] \n",
      "[  dict_build_first: True ]\n",
      "[  display_examples: False ]\n",
      "[  eval_batchsize: None ]\n",
      "[  evaltask: None ]\n",
      "[  load_from_checkpoint: False ]\n",
      "[  max_train_time: -1 ]\n",
      "[  num_epochs: 5.0 ]\n",
      "[  save_after_valid: False ]\n",
      "[  save_every_n_secs: -1 ]\n",
      "[  validation_cutoff: 1.0 ]\n",
      "[  validation_every_n_epochs: -1 ]\n",
      "[  validation_every_n_secs: -1 ]\n",
      "[  validation_max_exs: -1 ]\n",
      "[  validation_metric: accuracy ]\n",
      "[  validation_metric_mode: None ]\n",
      "[  validation_patience: 10 ]\n",
      "[  validation_share_agent: False ]\n",
      "[ Tensorboard Arguments: ] \n",
      "[  tensorboard_comment:  ]\n",
      "[  tensorboard_log: False ]\n",
      "[  tensorboard_metrics: None ]\n",
      "[  tensorboard_tag: None ]\n",
      "[ PytorchData Arguments: ] \n",
      "[  batch_length_range: 5 ]\n",
      "[  batch_sort_cache_type: pop ]\n",
      "[  batch_sort_field: text ]\n",
      "[  numworkers: 4 ]\n",
      "[  pytorch_context_length: -1 ]\n",
      "[  pytorch_datapath: None ]\n",
      "[  pytorch_include_labels: True ]\n",
      "[  pytorch_preprocess: False ]\n",
      "[  pytorch_teacher_batch_sort: False ]\n",
      "[  pytorch_teacher_dataset: None ]\n",
      "[  pytorch_teacher_task: None ]\n",
      "[  shuffle: False ]\n",
      "[ Dictionary Loop Arguments: ] \n",
      "[  dict_include_test: False ]\n",
      "[  dict_include_valid: False ]\n",
      "[  dict_maxexs: -1 ]\n",
      "[  log_every_n_secs: 2 ]\n",
      "[ ParlAI Image Preprocessing Arguments: ] \n",
      "[  image_cropsize: 224 ]\n",
      "[  image_size: 256 ]\n",
      "[ Seq2Seq Arguments: ] \n",
      "[  attention: none ]\n",
      "[  attention_length: 48 ]\n",
      "[  attention_time: post ]\n",
      "[  bidirectional: False ]\n",
      "[  decoder: shared ]\n",
      "[  dropout: 0.1 ]\n",
      "[  embeddingsize: 64 ]\n",
      "[  hiddensize: 64 ]\n",
      "[  input_dropout: 0.0 ]\n",
      "[  lookuptable: unique ]\n",
      "[  numlayers: 1 ]\n",
      "[  numsoftmax: 1 ]\n",
      "[  rnn_class: lstm ]\n",
      "[ Torch Generator Agent: ] \n",
      "[  beam_block_ngram: 0 ]\n",
      "[  beam_dot_log: False ]\n",
      "[  beam_min_length: 1 ]\n",
      "[  beam_min_n_best: 3 ]\n",
      "[  beam_size: 1 ]\n",
      "[  skip_generation: False ]\n",
      "[ TorchAgent Arguments: ] \n",
      "[  add_p1_after_newln: False ]\n",
      "[  betas: (0.9, 0.999) ]\n",
      "[  delimiter: \n",
      " ]\n",
      "[  embedding_projection: random ]\n",
      "[  embedding_type: random ]\n",
      "[  gpu: -1 ]\n",
      "[  gradient_clip: 0.1 ]\n",
      "[  history_size: -1 ]\n",
      "[  label_truncate: None ]\n",
      "[  learningrate: 1 ]\n",
      "[  lr_scheduler: reduceonplateau ]\n",
      "[  lr_scheduler_decay: 0.5 ]\n",
      "[  lr_scheduler_patience: 3 ]\n",
      "[  momentum: 0 ]\n",
      "[  nesterov: True ]\n",
      "[  no_cuda: False ]\n",
      "[  nus: (0.7,) ]\n",
      "[  optimizer: sgd ]\n",
      "[  person_tokens: False ]\n",
      "[  rank_candidates: False ]\n",
      "[  split_lines: False ]\n",
      "[  text_truncate: None ]\n",
      "[  truncate: -1 ]\n",
      "[  update_freq: -1 ]\n",
      "[  use_reply: label ]\n",
      "[  warmup_rate: 0.0001 ]\n",
      "[  warmup_updates: -1 ]\n",
      "[ Dictionary Arguments: ] \n",
      "[  bpe_debug: False ]\n",
      "[  dict_endtoken: __end__ ]\n",
      "[  dict_file: None ]\n",
      "[  dict_initpath: None ]\n",
      "[  dict_language: english ]\n",
      "[  dict_lower: False ]\n",
      "[  dict_max_ngram_size: -1 ]\n",
      "[  dict_maxtokens: -1 ]\n",
      "[  dict_minfreq: 0 ]\n",
      "[  dict_nulltoken: __null__ ]\n",
      "[  dict_starttoken: __start__ ]\n",
      "[  dict_textfields: text,labels ]\n",
      "[  dict_tokenizer: re ]\n",
      "[  dict_unktoken: __unk__ ]\n",
      "[ building dictionary first... ]\n",
      "[creating task(s): babi:task10k:1]\n",
      "[ running dictionary over data.. ]\n",
      "Building dictionary:   0% 0.00/9.00k [00:00<?, ?ex/s][loading fbdialog data:/root/ParlAI/data/bAbI/tasks_1-20_v1-2/en-valid-10k-nosf/qa1_train.txt]\n",
      "Building dictionary:  84% 7.54k/9.00k [00:00<00:00, 25.1kex/s][loading fbdialog data:/root/ParlAI/data/bAbI/tasks_1-20_v1-2/en-valid-10k-nosf/qa1_train.txt]\n",
      "Building dictionary: 100% 9.00k/9.00k [00:00<00:00, 25.2kex/s]\n",
      "Dictionary: saving dictionary to /tmp/babi_s2s.dict\n",
      "[ dictionary built with 26 tokens in 0s ]\n",
      "[ no model with opt yet at: /tmp/babi_s2s(.opt) ]\n",
      "Dictionary: loading dictionary from /tmp/babi_s2s.dict\n",
      "[ num words =  26 ]\n",
      "/usr/local/lib/python3.6/dist-packages/torch/nn/_reduction.py:43: UserWarning: size_average and reduce args will be deprecated, please use reduction='sum' instead.\n",
      "  warnings.warn(warning.format(ret))\n",
      "[creating task(s): babi:task10k:1]\n",
      "[loading fbdialog data:/root/ParlAI/data/bAbI/tasks_1-20_v1-2/en-valid-10k-nosf/qa1_train.txt]\n",
      "[ training... ]\n",
      "[ time:2.0s total_exs:544 epochs:0.06 time_left:166.0s ] {'exs': 544, 'lr': 1, 'num_updates': 17, 'loss': 31.21, 'token_acc': 0.4678, 'nll_loss': 1.836, 'ppl': 6.271}\n",
      "[ time:4.0s total_exs:1120 epochs:0.12 time_left:162.0s ] {'exs': 576, 'lr': 1, 'num_updates': 35, 'loss': 20.54, 'token_acc': 0.5764, 'nll_loss': 1.141, 'ppl': 3.131}\n",
      "[ time:6.0s total_exs:1728 epochs:0.19 time_left:155.0s ] {'exs': 608, 'lr': 1, 'num_updates': 54, 'loss': 20.08, 'token_acc': 0.5748, 'nll_loss': 1.057, 'ppl': 2.878}\n",
      "[ time:8.0s total_exs:2336 epochs:0.26 time_left:151.0s ] {'exs': 608, 'lr': 1, 'num_updates': 73, 'loss': 19.53, 'token_acc': 0.5789, 'nll_loss': 1.028, 'ppl': 2.795}\n",
      "[ time:10.0s total_exs:2880 epochs:0.32 time_left:151.0s ] {'exs': 544, 'lr': 1, 'num_updates': 90, 'loss': 17.43, 'token_acc': 0.5827, 'nll_loss': 1.025, 'ppl': 2.787}\n",
      "[ time:12.0s total_exs:3488 epochs:0.39 time_left:147.0s ] {'exs': 608, 'lr': 1, 'num_updates': 109, 'loss': 19.07, 'token_acc': 0.5995, 'nll_loss': 1.004, 'ppl': 2.729}\n",
      "[ time:14.0s total_exs:4096 epochs:0.46 time_left:144.0s ] {'exs': 608, 'lr': 1, 'num_updates': 128, 'loss': 19.41, 'token_acc': 0.5806, 'nll_loss': 1.022, 'ppl': 2.778}\n",
      "[ time:16.0s total_exs:4640 epochs:0.52 time_left:145.0s ] {'exs': 544, 'lr': 1, 'num_updates': 145, 'loss': 16.82, 'token_acc': 0.5938, 'nll_loss': 0.9891, 'ppl': 2.689}\n",
      "[ time:18.0s total_exs:5248 epochs:0.58 time_left:142.0s ] {'exs': 608, 'lr': 1, 'num_updates': 164, 'loss': 19.21, 'token_acc': 0.5781, 'nll_loss': 1.011, 'ppl': 2.748}\n",
      "[ time:20.0s total_exs:5824 epochs:0.65 time_left:140.0s ] {'exs': 576, 'lr': 1, 'num_updates': 182, 'loss': 18.01, 'token_acc': 0.572, 'nll_loss': 1.001, 'ppl': 2.721}\n",
      "[ time:22.0s total_exs:6400 epochs:0.71 time_left:139.0s ] {'exs': 576, 'lr': 1, 'num_updates': 200, 'loss': 17.93, 'token_acc': 0.5781, 'nll_loss': 0.9964, 'ppl': 2.708}\n",
      "[ time:25.0s total_exs:7040 epochs:0.78 time_left:136.0s ] {'exs': 640, 'lr': 1, 'num_updates': 220, 'loss': 19.48, 'token_acc': 0.5938, 'nll_loss': 0.9739, 'ppl': 2.648}\n",
      "[ time:27.0s total_exs:7648 epochs:0.85 time_left:133.0s ] {'exs': 608, 'lr': 1, 'num_updates': 239, 'loss': 18.59, 'token_acc': 0.5962, 'nll_loss': 0.9784, 'ppl': 2.66}\n",
      "[ time:29.0s total_exs:8256 epochs:0.92 time_left:130.0s ] {'exs': 608, 'lr': 1, 'num_updates': 258, 'loss': 18.32, 'token_acc': 0.5938, 'nll_loss': 0.9642, 'ppl': 2.623}\n",
      "[ time:31.0s total_exs:8800 epochs:0.98 time_left:129.0s ] {'exs': 544, 'lr': 1, 'num_updates': 275, 'loss': 16.16, 'token_acc': 0.5956, 'nll_loss': 0.9509, 'ppl': 2.588}\n",
      "[ time:33.0s total_exs:9440 epochs:1.05 time_left:126.0s ] {'exs': 640, 'lr': 1, 'num_updates': 295, 'loss': 19.05, 'token_acc': 0.5945, 'nll_loss': 0.9523, 'ppl': 2.592}\n",
      "[ time:35.0s total_exs:10080 epochs:1.12 time_left:124.0s ] {'exs': 640, 'lr': 1, 'num_updates': 315, 'loss': 19.13, 'token_acc': 0.5938, 'nll_loss': 0.9564, 'ppl': 2.602}\n",
      "[ time:37.0s total_exs:10688 epochs:1.19 time_left:122.0s ] {'exs': 608, 'lr': 1, 'num_updates': 334, 'loss': 18.0, 'token_acc': 0.5929, 'nll_loss': 0.9476, 'ppl': 2.579}\n",
      "[ time:39.0s total_exs:11264 epochs:1.25 time_left:120.0s ] {'exs': 576, 'lr': 1, 'num_updates': 352, 'loss': 17.14, 'token_acc': 0.5903, 'nll_loss': 0.952, 'ppl': 2.591}\n",
      "[ time:41.0s total_exs:11840 epochs:1.32 time_left:118.0s ] {'exs': 576, 'lr': 1, 'num_updates': 370, 'loss': 16.68, 'token_acc': 0.6033, 'nll_loss': 0.9266, 'ppl': 2.526}\n",
      "[ time:44.0s total_exs:12480 epochs:1.39 time_left:115.0s ] {'exs': 640, 'lr': 1, 'num_updates': 390, 'loss': 18.19, 'token_acc': 0.6148, 'nll_loss': 0.9096, 'ppl': 2.483}\n",
      "[ time:46.0s total_exs:13088 epochs:1.45 time_left:113.0s ] {'exs': 608, 'lr': 1, 'num_updates': 409, 'loss': 17.17, 'token_acc': 0.6431, 'nll_loss': 0.9037, 'ppl': 2.469}\n",
      "[ time:48.0s total_exs:13632 epochs:1.51 time_left:111.0s ] {'exs': 544, 'lr': 1, 'num_updates': 426, 'loss': 15.39, 'token_acc': 0.625, 'nll_loss': 0.9052, 'ppl': 2.472}\n",
      "[ time:50.0s total_exs:14208 epochs:1.58 time_left:109.0s ] {'exs': 576, 'lr': 1, 'num_updates': 444, 'loss': 15.99, 'token_acc': 0.6432, 'nll_loss': 0.8886, 'ppl': 2.432}\n",
      "[ time:52.0s total_exs:14784 epochs:1.64 time_left:107.0s ] {'exs': 576, 'lr': 1, 'num_updates': 462, 'loss': 16.09, 'token_acc': 0.6354, 'nll_loss': 0.8939, 'ppl': 2.445}\n",
      "[ time:54.0s total_exs:15360 epochs:1.71 time_left:106.0s ] {'exs': 576, 'lr': 1, 'num_updates': 480, 'loss': 15.37, 'token_acc': 0.6502, 'nll_loss': 0.8541, 'ppl': 2.349}\n",
      "[ time:56.0s total_exs:15968 epochs:1.77 time_left:103.0s ] {'exs': 608, 'lr': 1, 'num_updates': 499, 'loss': 16.64, 'token_acc': 0.6521, 'nll_loss': 0.8757, 'ppl': 2.401}\n",
      "[ time:58.0s total_exs:16480 epochs:1.83 time_left:102.0s ] {'exs': 512, 'lr': 1, 'num_updates': 515, 'loss': 13.69, 'token_acc': 0.6602, 'nll_loss': 0.8558, 'ppl': 2.353}\n",
      "[ time:60.0s total_exs:17088 epochs:1.9 time_left:100.0s ] {'exs': 608, 'lr': 1, 'num_updates': 534, 'loss': 15.99, 'token_acc': 0.6694, 'nll_loss': 0.8415, 'ppl': 2.32}\n",
      "[ time:62.0s total_exs:17600 epochs:1.96 time_left:98.0s ] {'exs': 512, 'lr': 1, 'num_updates': 550, 'loss': 13.44, 'token_acc': 0.6982, 'nll_loss': 0.8398, 'ppl': 2.316}\n",
      "[ time:64.0s total_exs:18208 epochs:2.02 time_left:96.0s ] {'exs': 608, 'lr': 1, 'num_updates': 569, 'loss': 16.01, 'token_acc': 0.6982, 'nll_loss': 0.8425, 'ppl': 2.322}\n",
      "[ time:66.0s total_exs:18752 epochs:2.08 time_left:94.0s ] {'exs': 544, 'lr': 1, 'num_updates': 586, 'loss': 13.33, 'token_acc': 0.7132, 'nll_loss': 0.7844, 'ppl': 2.191}\n",
      "[ time:68.0s total_exs:19328 epochs:2.15 time_left:92.0s ] {'exs': 576, 'lr': 1, 'num_updates': 604, 'loss': 14.14, 'token_acc': 0.7188, 'nll_loss': 0.7857, 'ppl': 2.194}\n",
      "[ time:70.0s total_exs:19840 epochs:2.2 time_left:90.0s ] {'exs': 512, 'lr': 1, 'num_updates': 620, 'loss': 12.85, 'token_acc': 0.7168, 'nll_loss': 0.8032, 'ppl': 2.233}\n",
      "[ time:72.0s total_exs:20448 epochs:2.27 time_left:88.0s ] {'exs': 608, 'lr': 1, 'num_updates': 639, 'loss': 14.09, 'token_acc': 0.7426, 'nll_loss': 0.7414, 'ppl': 2.099}\n",
      "[ time:75.0s total_exs:21056 epochs:2.34 time_left:86.0s ] {'exs': 608, 'lr': 1, 'num_updates': 658, 'loss': 14.11, 'token_acc': 0.7303, 'nll_loss': 0.7426, 'ppl': 2.101}\n",
      "[ time:77.0s total_exs:21600 epochs:2.4 time_left:84.0s ] {'exs': 544, 'lr': 1, 'num_updates': 675, 'loss': 12.94, 'token_acc': 0.7436, 'nll_loss': 0.7612, 'ppl': 2.141}\n",
      "[ time:79.0s total_exs:22208 epochs:2.47 time_left:82.0s ] {'exs': 608, 'lr': 1, 'num_updates': 694, 'loss': 14.14, 'token_acc': 0.7533, 'nll_loss': 0.7441, 'ppl': 2.104}\n",
      "[ time:81.0s total_exs:22752 epochs:2.53 time_left:80.0s ] {'exs': 544, 'lr': 1, 'num_updates': 711, 'loss': 12.67, 'token_acc': 0.7316, 'nll_loss': 0.7455, 'ppl': 2.108}\n",
      "[ time:83.0s total_exs:23360 epochs:2.6 time_left:78.0s ] {'exs': 608, 'lr': 1, 'num_updates': 730, 'loss': 14.21, 'token_acc': 0.7484, 'nll_loss': 0.7479, 'ppl': 2.113}\n",
      "[ time:85.0s total_exs:23968 epochs:2.66 time_left:76.0s ] {'exs': 608, 'lr': 1, 'num_updates': 749, 'loss': 14.02, 'token_acc': 0.7377, 'nll_loss': 0.7379, 'ppl': 2.092}\n",
      "[ time:87.0s total_exs:24544 epochs:2.73 time_left:74.0s ] {'exs': 576, 'lr': 1, 'num_updates': 767, 'loss': 13.69, 'token_acc': 0.73, 'nll_loss': 0.7607, 'ppl': 2.14}\n",
      "[ time:89.0s total_exs:25120 epochs:2.79 time_left:72.0s ] {'exs': 576, 'lr': 1, 'num_updates': 785, 'loss': 13.26, 'token_acc': 0.7326, 'nll_loss': 0.7365, 'ppl': 2.089}\n",
      "[ time:91.0s total_exs:25728 epochs:2.86 time_left:69.0s ] {'exs': 608, 'lr': 1, 'num_updates': 804, 'loss': 13.19, 'token_acc': 0.7492, 'nll_loss': 0.6943, 'ppl': 2.002}\n",
      "[ time:93.0s total_exs:26304 epochs:2.92 time_left:67.0s ] {'exs': 576, 'lr': 1, 'num_updates': 822, 'loss': 13.07, 'token_acc': 0.7326, 'nll_loss': 0.7259, 'ppl': 2.067}\n",
      "[ time:96.0s total_exs:26880 epochs:2.99 time_left:65.0s ] {'exs': 576, 'lr': 1, 'num_updates': 840, 'loss': 13.33, 'token_acc': 0.7309, 'nll_loss': 0.7405, 'ppl': 2.097}\n",
      "[ time:98.0s total_exs:27520 epochs:3.06 time_left:63.0s ] {'exs': 640, 'lr': 1, 'num_updates': 860, 'loss': 14.03, 'token_acc': 0.7391, 'nll_loss': 0.7014, 'ppl': 2.017}\n",
      "[ time:100.0s total_exs:28128 epochs:3.13 time_left:61.0s ] {'exs': 608, 'lr': 1, 'num_updates': 879, 'loss': 12.76, 'token_acc': 0.7648, 'nll_loss': 0.6715, 'ppl': 1.957}\n",
      "[ time:102.0s total_exs:28736 epochs:3.19 time_left:58.0s ] {'exs': 608, 'lr': 1, 'num_updates': 898, 'loss': 13.37, 'token_acc': 0.7426, 'nll_loss': 0.7037, 'ppl': 2.021}\n",
      "[ time:104.0s total_exs:29280 epochs:3.25 time_left:57.0s ] {'exs': 544, 'lr': 1, 'num_updates': 915, 'loss': 12.55, 'token_acc': 0.7335, 'nll_loss': 0.7384, 'ppl': 2.093}\n",
      "[ time:106.0s total_exs:29920 epochs:3.32 time_left:54.0s ] {'exs': 640, 'lr': 1, 'num_updates': 935, 'loss': 14.74, 'token_acc': 0.7305, 'nll_loss': 0.737, 'ppl': 2.09}\n",
      "[ time:108.0s total_exs:30528 epochs:3.39 time_left:52.0s ] {'exs': 608, 'lr': 1, 'num_updates': 954, 'loss': 13.44, 'token_acc': 0.7336, 'nll_loss': 0.7075, 'ppl': 2.029}\n",
      "[ time:110.0s total_exs:31136 epochs:3.46 time_left:50.0s ] {'exs': 608, 'lr': 1, 'num_updates': 973, 'loss': 13.11, 'token_acc': 0.7582, 'nll_loss': 0.6899, 'ppl': 1.994}\n",
      "[ time:112.0s total_exs:31680 epochs:3.52 time_left:48.0s ] {'exs': 544, 'lr': 1, 'num_updates': 990, 'loss': 11.87, 'token_acc': 0.7417, 'nll_loss': 0.698, 'ppl': 2.01}\n",
      "[ time:114.0s total_exs:32288 epochs:3.59 time_left:46.0s ] {'exs': 608, 'lr': 1, 'num_updates': 1009, 'loss': 12.91, 'token_acc': 0.7533, 'nll_loss': 0.6797, 'ppl': 1.973}\n",
      "[ time:116.0s total_exs:32864 epochs:3.65 time_left:44.0s ] {'exs': 576, 'lr': 1, 'num_updates': 1027, 'loss': 11.99, 'token_acc': 0.763, 'nll_loss': 0.666, 'ppl': 1.946}\n",
      "[ time:118.0s total_exs:33408 epochs:3.71 time_left:42.0s ] {'exs': 544, 'lr': 1, 'num_updates': 1044, 'loss': 11.52, 'token_acc': 0.7472, 'nll_loss': 0.6776, 'ppl': 1.969}\n",
      "[ time:120.0s total_exs:33920 epochs:3.77 time_left:40.0s ] {'exs': 512, 'lr': 1, 'num_updates': 1060, 'loss': 10.41, 'token_acc': 0.7559, 'nll_loss': 0.6506, 'ppl': 1.917}\n",
      "[ time:123.0s total_exs:34528 epochs:3.84 time_left:38.0s ] {'exs': 608, 'lr': 1, 'num_updates': 1079, 'loss': 12.85, 'token_acc': 0.7558, 'nll_loss': 0.6763, 'ppl': 1.967}\n",
      "[ time:125.0s total_exs:35136 epochs:3.9 time_left:36.0s ] {'exs': 608, 'lr': 1, 'num_updates': 1098, 'loss': 12.83, 'token_acc': 0.7549, 'nll_loss': 0.6754, 'ppl': 1.965}\n",
      "[ time:127.0s total_exs:35680 epochs:3.96 time_left:34.0s ] {'exs': 544, 'lr': 1, 'num_updates': 1115, 'loss': 11.66, 'token_acc': 0.7546, 'nll_loss': 0.6859, 'ppl': 1.986}\n",
      "[ time:129.0s total_exs:36288 epochs:4.03 time_left:32.0s ] {'exs': 608, 'lr': 1, 'num_updates': 1134, 'loss': 12.72, 'token_acc': 0.7508, 'nll_loss': 0.6694, 'ppl': 1.953}\n",
      "[ time:131.0s total_exs:36800 epochs:4.09 time_left:30.0s ] {'exs': 512, 'lr': 1, 'num_updates': 1150, 'loss': 11.17, 'token_acc': 0.7451, 'nll_loss': 0.698, 'ppl': 2.01}\n",
      "[ time:133.0s total_exs:37408 epochs:4.16 time_left:28.0s ] {'exs': 608, 'lr': 1, 'num_updates': 1169, 'loss': 12.71, 'token_acc': 0.7426, 'nll_loss': 0.669, 'ppl': 1.952}\n",
      "[ time:135.0s total_exs:37984 epochs:4.22 time_left:26.0s ] {'exs': 576, 'lr': 1, 'num_updates': 1187, 'loss': 11.97, 'token_acc': 0.7535, 'nll_loss': 0.665, 'ppl': 1.945}\n",
      "[ time:137.0s total_exs:38528 epochs:4.28 time_left:24.0s ] {'exs': 544, 'lr': 1, 'num_updates': 1204, 'loss': 11.61, 'token_acc': 0.7482, 'nll_loss': 0.6827, 'ppl': 1.979}\n",
      "[ time:139.0s total_exs:39040 epochs:4.34 time_left:22.0s ] {'exs': 512, 'lr': 1, 'num_updates': 1220, 'loss': 10.72, 'token_acc': 0.751, 'nll_loss': 0.6698, 'ppl': 1.954}\n",
      "[ time:141.0s total_exs:39616 epochs:4.4 time_left:20.0s ] {'exs': 576, 'lr': 1, 'num_updates': 1238, 'loss': 12.25, 'token_acc': 0.75, 'nll_loss': 0.6805, 'ppl': 1.975}\n",
      "[ time:143.0s total_exs:40160 epochs:4.46 time_left:18.0s ] {'exs': 544, 'lr': 1, 'num_updates': 1255, 'loss': 11.21, 'token_acc': 0.7426, 'nll_loss': 0.6596, 'ppl': 1.934}\n",
      "[ time:145.0s total_exs:40768 epochs:4.53 time_left:16.0s ] {'exs': 608, 'lr': 1, 'num_updates': 1274, 'loss': 12.67, 'token_acc': 0.7549, 'nll_loss': 0.6671, 'ppl': 1.949}\n",
      "[ time:147.0s total_exs:41280 epochs:4.59 time_left:14.0s ] {'exs': 512, 'lr': 1, 'num_updates': 1290, 'loss': 10.76, 'token_acc': 0.7568, 'nll_loss': 0.6727, 'ppl': 1.96}\n",
      "[ time:149.0s total_exs:41888 epochs:4.65 time_left:12.0s ] {'exs': 608, 'lr': 1, 'num_updates': 1309, 'loss': 12.19, 'token_acc': 0.764, 'nll_loss': 0.6413, 'ppl': 1.899}\n",
      "[ time:151.0s total_exs:42432 epochs:4.71 time_left:10.0s ] {'exs': 544, 'lr': 1, 'num_updates': 1326, 'loss': 11.49, 'token_acc': 0.7436, 'nll_loss': 0.6761, 'ppl': 1.966}\n",
      "[ time:153.0s total_exs:43008 epochs:4.78 time_left:8.0s ] {'exs': 576, 'lr': 1, 'num_updates': 1344, 'loss': 11.91, 'token_acc': 0.7413, 'nll_loss': 0.6616, 'ppl': 1.938}\n",
      "[ time:155.0s total_exs:43520 epochs:4.84 time_left:6.0s ] {'exs': 512, 'lr': 1, 'num_updates': 1360, 'loss': 10.56, 'token_acc': 0.749, 'nll_loss': 0.6602, 'ppl': 1.935}\n",
      "[ time:158.0s total_exs:44128 epochs:4.9 time_left:4.0s ] {'exs': 608, 'lr': 1, 'num_updates': 1379, 'loss': 12.45, 'token_acc': 0.7599, 'nll_loss': 0.6555, 'ppl': 1.926}\n",
      "[ time:160.0s total_exs:44640 epochs:4.96 time_left:2.0s ] {'exs': 512, 'lr': 1, 'num_updates': 1395, 'loss': 10.47, 'token_acc': 0.7588, 'nll_loss': 0.6544, 'ppl': 1.924}\n",
      "[ time:161.0s total_exs:45024 epochs:5.0 time_left:0s ] {'exs': 384, 'lr': 1, 'num_updates': 1407, 'loss': 7.912, 'token_acc': 0.7526, 'nll_loss': 0.6594, 'ppl': 1.934}\n",
      "[ num_epochs completed:5.0 time elapsed:161.34756875038147s ]\n",
      "[creating task(s): babi:task10k:1]\n",
      "[loading fbdialog data:/root/ParlAI/data/bAbI/tasks_1-20_v1-2/en-valid-10k-nosf/qa1_valid.txt]\n",
      "[ running eval: valid ]\n",
      "valid:{'exs': 1000, 'accuracy': 0.53, 'f1': 0.53, 'bleu': 5.3e-10, 'lr': 1, 'num_updates': 1407, 'loss': 21.94, 'token_acc': 0.765, 'nll_loss': 0.6224, 'ppl': 1.863}\n",
      "[creating task(s): babi:task10k:1]\n",
      "[loading fbdialog data:/root/ParlAI/data/bAbI/tasks_1-20_v1-2/en-valid-10k-nosf/qa1_test.txt]\n",
      "[ running eval: test ]\n",
      "test:{'exs': 1000, 'accuracy': 0.487, 'f1': 0.487, 'bleu': 4.87e-10, 'lr': 1, 'num_updates': 1407, 'loss': 23.09, 'token_acc': 0.7435, 'nll_loss': 0.6664, 'ppl': 1.947}\n"
     ]
    }
   ],
   "source": [
    "# FILL THIS CELL\n",
    "!python ~/ParlAI/examples/train_model.py --task babi:task10k:1 --model seq2seq  --model-file /tmp/babi_s2s --batchsize 32 --numthreads 1 --num-epochs 5 --hiddensize 64 --embeddingsize 64 --numlayers 1 --decoder shared"
   ]
  },
  {
   "cell_type": "code",
   "execution_count": 20,
   "metadata": {
    "colab": {
     "base_uri": "https://localhost:8080/",
     "height": 1000
    },
    "colab_type": "code",
    "id": "OvxjgtEHTXFb",
    "outputId": "5bd99456-aebc-4df9-aa7d-08db85e9f644"
   },
   "outputs": [
    {
     "name": "stdout",
     "output_type": "stream",
     "text": [
      "[ optional arguments: ] \n",
      "[  display_ignore_fields:  ]\n",
      "[  num_examples: 10 ]\n",
      "[ Main ParlAI Arguments: ] \n",
      "[  batchsize: 1 ]\n",
      "[  datapath: /root/ParlAI/data ]\n",
      "[  datatype: valid ]\n",
      "[  download_path: /root/ParlAI/downloads ]\n",
      "[  hide_labels: False ]\n",
      "[  image_mode: raw ]\n",
      "[  multitask_weights: [1] ]\n",
      "[  numthreads: 1 ]\n",
      "[  show_advanced_args: False ]\n",
      "[  task: babi:task10k:1 ]\n",
      "[ ParlAI Model Arguments: ] \n",
      "[  dict_class: parlai.core.dict:DictionaryAgent ]\n",
      "[  init_model: None ]\n",
      "[  model: seq2seq ]\n",
      "[  model_file: /tmp/babi_s2s ]\n",
      "[ ParlAI Image Preprocessing Arguments: ] \n",
      "[  image_cropsize: 224 ]\n",
      "[  image_size: 256 ]\n",
      "[ Seq2Seq Arguments: ] \n",
      "[  attention: none ]\n",
      "[  attention_length: 48 ]\n",
      "[  attention_time: post ]\n",
      "[  bidirectional: False ]\n",
      "[  decoder: same ]\n",
      "[  dropout: 0.1 ]\n",
      "[  embeddingsize: 128 ]\n",
      "[  hiddensize: 128 ]\n",
      "[  input_dropout: 0.0 ]\n",
      "[  lookuptable: unique ]\n",
      "[  numlayers: 2 ]\n",
      "[  numsoftmax: 1 ]\n",
      "[  rnn_class: lstm ]\n",
      "[ Torch Generator Agent: ] \n",
      "[  beam_block_ngram: 0 ]\n",
      "[  beam_dot_log: False ]\n",
      "[  beam_min_length: 1 ]\n",
      "[  beam_min_n_best: 3 ]\n",
      "[  beam_size: 1 ]\n",
      "[  skip_generation: False ]\n",
      "[ TorchAgent Arguments: ] \n",
      "[  add_p1_after_newln: False ]\n",
      "[  betas: (0.9, 0.999) ]\n",
      "[  delimiter: \n",
      " ]\n",
      "[  embedding_projection: random ]\n",
      "[  embedding_type: random ]\n",
      "[  gpu: -1 ]\n",
      "[  gradient_clip: 0.1 ]\n",
      "[  history_size: -1 ]\n",
      "[  label_truncate: None ]\n",
      "[  learningrate: 1 ]\n",
      "[  lr_scheduler: reduceonplateau ]\n",
      "[  lr_scheduler_decay: 0.5 ]\n",
      "[  lr_scheduler_patience: 3 ]\n",
      "[  momentum: 0 ]\n",
      "[  nesterov: True ]\n",
      "[  no_cuda: False ]\n",
      "[  nus: (0.7,) ]\n",
      "[  optimizer: sgd ]\n",
      "[  person_tokens: False ]\n",
      "[  rank_candidates: False ]\n",
      "[  split_lines: False ]\n",
      "[  text_truncate: None ]\n",
      "[  truncate: -1 ]\n",
      "[  update_freq: -1 ]\n",
      "[  use_reply: label ]\n",
      "[  warmup_rate: 0.0001 ]\n",
      "[  warmup_updates: -1 ]\n",
      "[ Dictionary Arguments: ] \n",
      "[  bpe_debug: False ]\n",
      "[  dict_endtoken: __end__ ]\n",
      "[  dict_file: None ]\n",
      "[  dict_initpath: None ]\n",
      "[  dict_language: english ]\n",
      "[  dict_lower: False ]\n",
      "[  dict_max_ngram_size: -1 ]\n",
      "[  dict_maxtokens: -1 ]\n",
      "[  dict_minfreq: 0 ]\n",
      "[  dict_nulltoken: __null__ ]\n",
      "[  dict_starttoken: __start__ ]\n",
      "[  dict_textfields: text,labels ]\n",
      "[  dict_tokenizer: re ]\n",
      "[  dict_unktoken: __unk__ ]\n",
      "Dictionary: loading dictionary from /tmp/babi_s2s.dict\n",
      "[ num words =  26 ]\n",
      "/usr/local/lib/python3.6/dist-packages/torch/nn/_reduction.py:43: UserWarning: size_average and reduce args will be deprecated, please use reduction='sum' instead.\n",
      "  warnings.warn(warning.format(ret))\n",
      "[ Loading existing model params from /tmp/babi_s2s ]\n",
      "/root/ParlAI/parlai/core/torch_agent.py:727: UserWarning: LR scheduler is different from saved. Starting fresh!\n",
      "  warn_once(\"LR scheduler is different from saved. Starting fresh!\")\n",
      "[creating task(s): babi:task10k:1]\n",
      "[loading fbdialog data:/root/ParlAI/data/bAbI/tasks_1-20_v1-2/en-valid-10k-nosf/qa1_valid.txt]\n",
      "[eval_labels_choice]: bathroom\n",
      "[babi:task10k:1]: Sandra travelled to the office.\n",
      "Sandra went to the bathroom.\n",
      "Where is Sandra?\n",
      "[eval_labels: bathroom]\n",
      "[label_candidates: bathroom|bedroom|hallway|office|kitchen|...and 1 more]\n",
      "   [Seq2Seq]: bathroom\n",
      "~~\n",
      "[eval_labels_choice]: bathroom\n",
      "[babi:task10k:1]: Sandra travelled to the office.\n",
      "Sandra went to the bathroom.\n",
      "Where is Sandra?\n",
      "bathroom\n",
      "Mary went to the bedroom.\n",
      "Daniel moved to the hallway.\n",
      "Where is Sandra?\n",
      "[eval_labels: bathroom]\n",
      "[label_candidates: bathroom|bedroom|hallway|office|kitchen|...and 1 more]\n",
      "   [Seq2Seq]: hallway\n",
      "~~\n",
      "[eval_labels_choice]: bathroom\n",
      "[babi:task10k:1]: Sandra travelled to the office.\n",
      "Sandra went to the bathroom.\n",
      "Where is Sandra?\n",
      "bathroom\n",
      "Mary went to the bedroom.\n",
      "Daniel moved to the hallway.\n",
      "Where is Sandra?\n",
      "bathroom\n",
      "John went to the garden.\n",
      "John travelled to the office.\n",
      "Where is Sandra?\n",
      "[eval_labels: bathroom]\n",
      "[label_candidates: bathroom|bedroom|hallway|office|kitchen|...and 1 more]\n",
      "   [Seq2Seq]: garden\n",
      "~~\n",
      "[eval_labels_choice]: office\n",
      "[babi:task10k:1]: Sandra travelled to the office.\n",
      "Sandra went to the bathroom.\n",
      "Where is Sandra?\n",
      "bathroom\n",
      "Mary went to the bedroom.\n",
      "Daniel moved to the hallway.\n",
      "Where is Sandra?\n",
      "bathroom\n",
      "John went to the garden.\n",
      "John travelled to the office.\n",
      "Where is Sandra?\n",
      "bathroom\n",
      "Daniel journeyed to the bedroom.\n",
      "Daniel travelled to the hallway.\n",
      "Where is John?\n",
      "[eval_labels: office]\n",
      "[label_candidates: bathroom|bedroom|hallway|office|kitchen|...and 1 more]\n",
      "   [Seq2Seq]: hallway\n",
      "~~\n",
      "[eval_labels_choice]: hallway\n",
      "[babi:task10k:1]: Sandra travelled to the office.\n",
      "Sandra went to the bathroom.\n",
      "Where is Sandra?\n",
      "bathroom\n",
      "Mary went to the bedroom.\n",
      "Daniel moved to the hallway.\n",
      "Where is Sandra?\n",
      "bathroom\n",
      "John went to the garden.\n",
      "John travelled to the office.\n",
      "Where is Sandra?\n",
      "bathroom\n",
      "Daniel journeyed to the bedroom.\n",
      "Daniel travelled to the hallway.\n",
      "Where is John?\n",
      "office\n",
      "John went to the bedroom.\n",
      "John travelled to the office.\n",
      "Where is Daniel?\n",
      "[eval_labels: hallway]\n",
      "[label_candidates: bathroom|bedroom|hallway|office|kitchen|...and 1 more]\n",
      "   [Seq2Seq]: bedroom\n",
      "- - - - - - - - - - - - - - - - - - - - -\n",
      "~~\n",
      "[eval_labels_choice]: garden\n",
      "[babi:task10k:1]: Sandra went back to the bathroom.\n",
      "Mary moved to the garden.\n",
      "Where is Mary?\n",
      "[eval_labels: garden]\n",
      "[label_candidates: bathroom|bedroom|hallway|office|kitchen|...and 1 more]\n",
      "   [Seq2Seq]: garden\n",
      "~~\n",
      "[eval_labels_choice]: office\n",
      "[babi:task10k:1]: Sandra went back to the bathroom.\n",
      "Mary moved to the garden.\n",
      "Where is Mary?\n",
      "garden\n",
      "Mary went back to the hallway.\n",
      "Sandra went to the office.\n",
      "Where is Sandra?\n",
      "[eval_labels: office]\n",
      "[label_candidates: bathroom|bedroom|hallway|office|kitchen|...and 1 more]\n",
      "   [Seq2Seq]: garden\n",
      "~~\n",
      "[eval_labels_choice]: office\n",
      "[babi:task10k:1]: Sandra went back to the bathroom.\n",
      "Mary moved to the garden.\n",
      "Where is Mary?\n",
      "garden\n",
      "Mary went back to the hallway.\n",
      "Sandra went to the office.\n",
      "Where is Sandra?\n",
      "office\n",
      "John went back to the hallway.\n",
      "John travelled to the office.\n",
      "Where is Sandra?\n",
      "[eval_labels: office]\n",
      "[label_candidates: bathroom|bedroom|hallway|office|kitchen|...and 1 more]\n",
      "   [Seq2Seq]: garden\n",
      "~~\n",
      "[eval_labels_choice]: office\n",
      "[babi:task10k:1]: Sandra went back to the bathroom.\n",
      "Mary moved to the garden.\n",
      "Where is Mary?\n",
      "garden\n",
      "Mary went back to the hallway.\n",
      "Sandra went to the office.\n",
      "Where is Sandra?\n",
      "office\n",
      "John went back to the hallway.\n",
      "John travelled to the office.\n",
      "Where is Sandra?\n",
      "office\n",
      "Sandra journeyed to the hallway.\n",
      "Daniel moved to the office.\n",
      "Where is John?\n",
      "[eval_labels: office]\n",
      "[label_candidates: bathroom|bedroom|hallway|office|kitchen|...and 1 more]\n",
      "   [Seq2Seq]: office\n",
      "~~\n",
      "[eval_labels_choice]: office\n",
      "[babi:task10k:1]: Sandra went back to the bathroom.\n",
      "Mary moved to the garden.\n",
      "Where is Mary?\n",
      "garden\n",
      "Mary went back to the hallway.\n",
      "Sandra went to the office.\n",
      "Where is Sandra?\n",
      "office\n",
      "John went back to the hallway.\n",
      "John travelled to the office.\n",
      "Where is Sandra?\n",
      "office\n",
      "Sandra journeyed to the hallway.\n",
      "Daniel moved to the office.\n",
      "Where is John?\n",
      "office\n",
      "Mary went to the office.\n",
      "Sandra went to the office.\n",
      "Where is John?\n",
      "[eval_labels: office]\n",
      "[label_candidates: bathroom|bedroom|hallway|office|kitchen|...and 1 more]\n",
      "   [Seq2Seq]: office\n",
      "- - - - - - - - - - - - - - - - - - - - -\n",
      "~~\n"
     ]
    }
   ],
   "source": [
    "!python ~/ParlAI/examples/display_model.py --task babi:task10k:1 --model seq2seq --model-file /tmp/babi_s2s"
   ]
  },
  {
   "cell_type": "markdown",
   "metadata": {
    "colab_type": "text",
    "id": "DaX_GSktxrz1"
   },
   "source": [
    "### Ranking model: memory network\n",
    "\n",
    "We saw in the class that Memory Networks ([Sukhbaatar et al. 15'](https://papers.nips.cc/paper/5846-end-to-end-memory-networks.pdf)) rely on an explicit memory \"database\". this is especially adapted to tasks where a few useful memories are \"hidden\" among distractor memories.  \n",
    "These type of networks worktherefore  especially well for the bAbI tasks by turning the previous dialog turns as memories and the question as the query.  \n",
    "Here is an illustration of how a memory network work:\n",
    "\n",
    "![Memory Network schema](https://raw.githubusercontent.com/louismartin/ammi-2019-bordes-DeepNLP/master/lab1/memory_network.png)\n",
    "\n",
    "\n",
    "---\n",
    "**Question 4**  \n",
    "- **4.d.** Explain how hops work in a memory network (either with words or formulas using the notations of the above figure)\n",
    ":\n",
    "ANSWER HERE\n",
    "\n",
    "During the first hop, both the question and the story are embedded into a continuous vector space via an embedding matrix of size ($d\\times V$). The embedding of the story gives memory vectors $m_1, m_2, \\dots$ and the embedding of the question is a vector $q$.  A $dot$ product is computed between each of the memory vectors and the question embedding $q$, yielding after applying the Softmax function, weigts $p_1, p_2, \\dots$. The weighted (using the $p_i's)$ average of the memory vectors is computed to give an output vector $o$, that is, $o=\\sum_i p_im_i$, and this ends the first hop. For the next hop, we update the embedding of the question using the outputted vector $o$ and the previous embedding of the question, for example $q_{next} = q_{current}+o^{current} $, or more generally $q_{next} = H q_{current}+o^{current}$, where $H$ is a linear mapping which is learnt along with the rest of the parameters. We repeat the process above until the last hop.\n",
    "- **4.e.** How can a memory network be used to rank multiple candidates?  \n",
    "  (*hint: you can look at the [implementation](https://github.com/facebookresearch/ParlAI/blob/6bd0e58692b3fd3a13b5f654944525ac1b7cd8e3/parlai/agents/memnn/modules.py#L22) of the memory network in ParlAI and especially the `_score()` method. Recall how the IR baseline worked.*)\n",
    "  \n",
    "*ANSWER HERE*\n",
    "\n",
    "To rank multiple candidates, a memory network computes the Inner product between the final output, that is, the query $q_{H+1}=o^H+q_H$, with the candidates then rank them according to their scores.\n",
    " \n",
    "---"
   ]
  },
  {
   "cell_type": "markdown",
   "metadata": {
    "colab_type": "text",
    "id": "YHICORdji1Cx"
   },
   "source": [
    "\n",
    "- **4.f.** Using the ParlAI implementation, train a memory network on bAbI tasks 1, 2 and 3 (10k) and compare its results with the baselines.  \n",
    "   (*hint: use a 1 thread, a batch size of 32 and 5 epochs*)\n"
   ]
  },
  {
   "cell_type": "code",
   "execution_count": 15,
   "metadata": {
    "colab": {
     "base_uri": "https://localhost:8080/",
     "height": 649
    },
    "colab_type": "code",
    "id": "iKeyD3UYsaFs",
    "outputId": "cd1ffdc4-f7c6-4b80-db3a-4b48c907022c"
   },
   "outputs": [
    {
     "name": "stdout",
     "output_type": "stream",
     "text": [
      "~ Task 1 ~\n",
      "Building dictionary: 100% 9.00k/9.00k [00:00<00:00, 25.6kex/s]\n",
      "/usr/local/lib/python3.6/dist-packages/torch/nn/_reduction.py:43: UserWarning: size_average and reduce args will be deprecated, please use reduction='sum' instead.\n",
      "  warnings.warn(warning.format(ret))\n",
      "/root/ParlAI/parlai/core/torch_ranker_agent.py:376: UserWarning: [ Executing train mode with provided inline set of candidates ]\n",
      "  ''.format(mode)\n",
      "/root/ParlAI/parlai/core/torch_ranker_agent.py:214: UserWarning: Some training metrics are omitted for speed. Set the flag `--train-predict` to calculate train metrics.\n",
      "  \"Some training metrics are omitted for speed. Set the flag \"\n",
      "/root/ParlAI/parlai/core/torch_ranker_agent.py:376: UserWarning: [ Executing eval mode with provided inline set of candidates ]\n",
      "  ''.format(mode)\n",
      "valid:{'exs': 1000, 'accuracy': 0.978, 'f1': 0.978, 'hits@1': 0.978, 'hits@5': 1.0, 'hits@10': 1.0, 'hits@100': 1.0, 'bleu': 9.78e-10, 'lr': 1, 'num_updates': 1407, 'examples': 1000, 'loss': 79.8, 'mean_loss': 0.0798, 'mean_rank': 1.023}\n",
      "test:{'exs': 1000, 'accuracy': 0.982, 'f1': 0.982, 'hits@1': 0.982, 'hits@5': 1.0, 'hits@10': 1.0, 'hits@100': 1.0, 'bleu': 9.82e-10, 'lr': 1, 'num_updates': 1407, 'examples': 1000, 'loss': 66.08, 'mean_loss': 0.06608, 'mean_rank': 1.021}\n",
      "~ Task 2 ~\n",
      "Building dictionary: 100% 9.00k/9.00k [00:00<00:00, 18.9kex/s]\n",
      "/usr/local/lib/python3.6/dist-packages/torch/nn/_reduction.py:43: UserWarning: size_average and reduce args will be deprecated, please use reduction='sum' instead.\n",
      "  warnings.warn(warning.format(ret))\n",
      "/root/ParlAI/parlai/core/torch_ranker_agent.py:376: UserWarning: [ Executing train mode with provided inline set of candidates ]\n",
      "  ''.format(mode)\n",
      "/root/ParlAI/parlai/core/torch_ranker_agent.py:214: UserWarning: Some training metrics are omitted for speed. Set the flag `--train-predict` to calculate train metrics.\n",
      "  \"Some training metrics are omitted for speed. Set the flag \"\n",
      "/root/ParlAI/parlai/core/torch_ranker_agent.py:376: UserWarning: [ Executing eval mode with provided inline set of candidates ]\n",
      "  ''.format(mode)\n",
      "valid:{'exs': 1000, 'accuracy': 0.202, 'f1': 0.202, 'hits@1': 0.202, 'hits@5': 0.847, 'hits@10': 1.0, 'hits@100': 1.0, 'bleu': 2.02e-10, 'lr': 1, 'num_updates': 1407, 'examples': 1000, 'loss': 2255.0, 'mean_loss': 2.255, 'mean_rank': 3.344}\n",
      "test:{'exs': 1000, 'accuracy': 0.198, 'f1': 0.198, 'hits@1': 0.198, 'hits@5': 0.839, 'hits@10': 1.0, 'hits@100': 1.0, 'bleu': 1.98e-10, 'lr': 1, 'num_updates': 1407, 'examples': 1000, 'loss': 2216.0, 'mean_loss': 2.216, 'mean_rank': 3.331}\n",
      "~ Task 3 ~\n",
      "Building dictionary: 100% 9.00k/9.00k [00:01<00:00, 8.60kex/s]\n",
      "/usr/local/lib/python3.6/dist-packages/torch/nn/_reduction.py:43: UserWarning: size_average and reduce args will be deprecated, please use reduction='sum' instead.\n",
      "  warnings.warn(warning.format(ret))\n",
      "/root/ParlAI/parlai/core/torch_ranker_agent.py:376: UserWarning: [ Executing train mode with provided inline set of candidates ]\n",
      "  ''.format(mode)\n",
      "/root/ParlAI/parlai/core/torch_ranker_agent.py:214: UserWarning: Some training metrics are omitted for speed. Set the flag `--train-predict` to calculate train metrics.\n",
      "  \"Some training metrics are omitted for speed. Set the flag \"\n",
      "/root/ParlAI/parlai/core/torch_ranker_agent.py:376: UserWarning: [ Executing eval mode with provided inline set of candidates ]\n",
      "  ''.format(mode)\n",
      "valid:{'exs': 1000, 'accuracy': 0.385, 'f1': 0.385, 'hits@1': 0.385, 'hits@5': 0.987, 'hits@10': 1.0, 'hits@100': 1.0, 'bleu': 3.85e-10, 'lr': 1, 'num_updates': 1407, 'examples': 1000, 'loss': 1695.0, 'mean_loss': 1.695, 'mean_rank': 2.437}\n",
      "test:{'exs': 1000, 'accuracy': 0.416, 'f1': 0.416, 'hits@1': 0.416, 'hits@5': 0.99, 'hits@10': 1.0, 'hits@100': 1.0, 'bleu': 4.16e-10, 'lr': 1, 'num_updates': 1407, 'examples': 1000, 'loss': 1606.0, 'mean_loss': 1.606, 'mean_rank': 2.306}\n"
     ]
    }
   ],
   "source": [
    "# ANSWER\n",
    "for i in range(3):\n",
    "    print(f'~ Task {i+1} ~')\n",
    "    !python ~/ParlAI/examples/train_model.py -t babi:task10k:{i+1} -m memnn -mf /tmp/babi{i+1}_memnn -bs 32 -eps 5 | grep \"'accuracy':\""
   ]
  },
  {
   "cell_type": "markdown",
   "metadata": {
    "colab_type": "text",
    "id": "DHH0Wy34o3_W"
   },
   "source": [
    "## 5. To go further"
   ]
  },
  {
   "cell_type": "markdown",
   "metadata": {
    "colab_type": "text",
    "id": "zaNGupqLssUB"
   },
   "source": [
    "If you want to go further you can try to do the following:\n",
    "\n",
    "- Retrieve and plot the attention of the memory network for the different hops along the memories.\n",
    "- For the seq2seq model, can you plot the training loss? The validation loss? Both on the same plot?\n",
    "- Can you show an example of overfitting?\n",
    "- Adapt the seq2seq model for ranking using the [torch ranker tutorial](http://www.parl.ai/static/docs/tutorial_torch_ranker_agent.html)\n",
    "- Try multitasking babi and squad, does it improve the performance? (this will require more GPU power than what is available in google colab)\n",
    "- You can play around with other models and other tasks\n",
    "- Try interfacing ParlAI with [messenger](http://www.parl.ai/static/docs/tutorial_messenger.html )"
   ]
  }
 ],
 "metadata": {
  "accelerator": "TPU",
  "colab": {
   "collapsed_sections": [
    "N4UnbCdcqHPu"
   ],
   "name": "Copy of ammi_dnlp_lab1.ipynb",
   "provenance": []
  },
  "kernelspec": {
   "display_name": "Python 3",
   "language": "python",
   "name": "python3"
  },
  "language_info": {
   "codemirror_mode": {
    "name": "ipython",
    "version": 3
   },
   "file_extension": ".py",
   "mimetype": "text/x-python",
   "name": "python",
   "nbconvert_exporter": "python",
   "pygments_lexer": "ipython3",
   "version": "3.7.6"
  }
 },
 "nbformat": 4,
 "nbformat_minor": 4
}
