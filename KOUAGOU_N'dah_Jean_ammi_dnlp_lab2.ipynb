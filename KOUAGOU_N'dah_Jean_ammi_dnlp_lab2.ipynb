{
  "nbformat": 4,
  "nbformat_minor": 0,
  "metadata": {
    "colab": {
      "name": "Copy of ammi_dnlp_lab2.ipynb",
      "provenance": [],
      "collapsed_sections": []
    },
    "kernelspec": {
      "name": "python3",
      "display_name": "Python 3"
    },
    "accelerator": "TPU"
  },
  "cells": [
    {
      "cell_type": "markdown",
      "metadata": {
        "id": "rzBHf68UXD2k",
        "colab_type": "text"
      },
      "source": [
        "# Chit Chat Chatbots"
      ]
    },
    {
      "cell_type": "markdown",
      "metadata": {
        "id": "Jm6rTDCrXJ4V",
        "colab_type": "text"
      },
      "source": [
        "In the previous lab, we explored models that try to answer questions by reasoning over free-text input. In this lab, we will explore two types of models to create chatbots.\n",
        "\n",
        "First, let's consider important qualities for a chit-chat chatbot system\n",
        "\n",
        "\n",
        "1.   **Readability** - whatever model we use, the chats it creates should be easily understood by humans\n",
        "2.   **Consistency** - when chatting with a chatbot, the bot should maintain consistent information. Imagine a bot that says \"Hi I'm Jack'' and then \"Hello, my name is Jane\" - quite confusing\n",
        "3.    **Engaging** - To encourage users to talk to the bot, the bot should be able to generate interesting, engaging responses. If the only response was \"wow, that's cool,\" users are quite unlikely to want to talk very much to the chat bot\n",
        "\n"
      ]
    },
    {
      "cell_type": "code",
      "metadata": {
        "id": "LrYcmfoI5PWO",
        "colab_type": "code",
        "outputId": "b0b19110-249d-403e-82e6-3937b8293bca",
        "colab": {
          "base_uri": "https://localhost:8080/",
          "height": 211
        }
      },
      "source": [
        "%%html\n",
        "<p style='color: blue;'>\n",
        "  Throughout the lab, there will be <b>questions</b> you should answer. <b>All questions you need to write an answer to will be in this blue color.</b>\n",
        "  \n",
        "  <br>Please write brief answers- no need for long explanations. \n",
        "  <br>There can be multiple correct answers to the questions.\n",
        "  \n",
        "  <br><br>The goal of these questions is to:\n",
        "  <ul style='color: green;'>\n",
        "    <li> Review the lecture material in the context of practical models and develop intuition about the models\n",
        "    <li> Develop a sense of experimentation - we will pretend we have a dataset and will walk through an experimental thought process.\n",
        "  </ul>\n",
        "\n",
        "<b>We are going to do the lab as a group. <br>I will explain the sections in more depth, as we did not cover dialogue deeply during the lecture. <br> After we discuss, I will provide time for you to write a few sentences. At the end of the lab, you will hand it in. In theory, everyone should be finished together!</b>\n",
        "\n",
        "  \n",
        "</p>"
      ],
      "execution_count": 2,
      "outputs": [
        {
          "output_type": "display_data",
          "data": {
            "text/html": [
              "<p style='color: blue;'>\n",
              "  Throughout the lab, there will be <b>questions</b> you should answer. <b>All questions you need to write an answer to will be in this blue color.</b>\n",
              "  \n",
              "  <br>Please write brief answers- no need for long explanations. \n",
              "  <br>There can be multiple correct answers to the questions.\n",
              "  \n",
              "  <br><br>The goal of these questions is to:\n",
              "  <ul style='color: green;'>\n",
              "    <li> Review the lecture material in the context of practical models and develop intuition about the models\n",
              "    <li> Develop a sense of experimentation - we will pretend we have a dataset and will walk through an experimental thought process.\n",
              "  </ul>\n",
              "\n",
              "<b>We are going to do the lab as a group. <br>I will explain the sections in more depth, as we did not cover dialogue deeply during the lecture. <br> After we discuss, I will provide time for you to write a few sentences. At the end of the lab, you will hand it in. In theory, everyone should be finished together!</b>\n",
              "\n",
              "  \n",
              "</p>"
            ],
            "text/plain": [
              "<IPython.core.display.HTML object>"
            ]
          },
          "metadata": {
            "tags": []
          }
        }
      ]
    },
    {
      "cell_type": "markdown",
      "metadata": {
        "id": "C3zg0WczXjDs",
        "colab_type": "text"
      },
      "source": [
        "## Data"
      ]
    },
    {
      "cell_type": "markdown",
      "metadata": {
        "id": "kguDIJbLXmZU",
        "colab_type": "text"
      },
      "source": [
        "The dataset we will use for this lab is called `PersonaChat` - it was created to directly address problem 2. Each person talking in the dataset has a personality, which helps maintain consistency in the dialogue. We saw it last week in the tutorials as well (when you worked through beam search)"
      ]
    },
    {
      "cell_type": "code",
      "metadata": {
        "id": "RpvTb8bBX40A",
        "colab_type": "code",
        "colab": {
          "base_uri": "https://localhost:8080/",
          "height": 952
        },
        "outputId": "d30a4489-9ba0-4d49-aaef-a9cb099ce7c6"
      },
      "source": [
        "!git clone https://github.com/facebookresearch/ParlAI.git ~/ParlAI  > /dev/null\n",
        "!cd ~/ParlAI; python setup.py develop > /dev/null"
      ],
      "execution_count": 3,
      "outputs": [
        {
          "output_type": "stream",
          "text": [
            "Cloning into '/root/ParlAI'...\n",
            "remote: Enumerating objects: 12, done.\u001b[K\n",
            "remote: Counting objects: 100% (12/12), done.\u001b[K\n",
            "remote: Compressing objects: 100% (11/11), done.\u001b[K\n",
            "remote: Total 29975 (delta 5), reused 3 (delta 1), pack-reused 29963\u001b[K\n",
            "Receiving objects: 100% (29975/29975), 57.58 MiB | 33.05 MiB/s, done.\n",
            "Resolving deltas: 100% (21348/21348), done.\n",
            "zip_safe flag not set; analyzing archive contents...\n",
            "/usr/local/lib/python3.6/dist-packages/setuptools/dist.py:454: UserWarning: Normalizing '2019.08.19' to '2019.8.19'\n",
            "  warnings.warn(tmpl.format(**locals()))\n",
            "\u001b[01m\u001b[Kregex_3/_regex.c:\u001b[m\u001b[K In function ‘\u001b[01m\u001b[Kfolded_char_at\u001b[m\u001b[K’:\n",
            "\u001b[01m\u001b[Kregex_3/_regex.c:10625:9:\u001b[m\u001b[K \u001b[01;35m\u001b[Kwarning: \u001b[m\u001b[Kvariable ‘\u001b[01m\u001b[Kfolded_len\u001b[m\u001b[K’ set but not used [\u001b[01;35m\u001b[K-Wunused-but-set-variable\u001b[m\u001b[K]\n",
            "     int \u001b[01;35m\u001b[Kfolded_len\u001b[m\u001b[K;\n",
            "         \u001b[01;35m\u001b[K^~~~~~~~~~\u001b[m\u001b[K\n",
            "\u001b[01m\u001b[Kregex_3/_regex.c:\u001b[m\u001b[K In function ‘\u001b[01m\u001b[Kfuzzy_match_group_fld\u001b[m\u001b[K’:\n",
            "\u001b[01m\u001b[Kregex_3/_regex.c:11503:10:\u001b[m\u001b[K \u001b[01;35m\u001b[Kwarning: \u001b[m\u001b[K‘\u001b[01m\u001b[Kdata.new_text_pos\u001b[m\u001b[K’ may be used uninitialized in this function [\u001b[01;35m\u001b[K-Wmaybe-uninitialized\u001b[m\u001b[K]\n",
            "     if (!\u001b[01;35m\u001b[Krecord_fuzzy(state, data.fuzzy_type, data.new_text_pos - data.step)\u001b[m\u001b[K)\n",
            "          \u001b[01;35m\u001b[K^~~~~~~~~~~~~~~~~~~~~~~~~~~~~~~~~~~~~~~~~~~~~~~~~~~~~~~~~~~~~~~~~~~\u001b[m\u001b[K\n",
            "\u001b[01m\u001b[Kregex_3/_regex.c:\u001b[m\u001b[K In function ‘\u001b[01m\u001b[Kfuzzy_match_string_fld\u001b[m\u001b[K’:\n",
            "\u001b[01m\u001b[Kregex_3/_regex.c:11270:10:\u001b[m\u001b[K \u001b[01;35m\u001b[Kwarning: \u001b[m\u001b[K‘\u001b[01m\u001b[Kdata.new_text_pos\u001b[m\u001b[K’ may be used uninitialized in this function [\u001b[01;35m\u001b[K-Wmaybe-uninitialized\u001b[m\u001b[K]\n",
            "     if (!\u001b[01;35m\u001b[Krecord_fuzzy(state, data.fuzzy_type, data.new_text_pos - data.step)\u001b[m\u001b[K)\n",
            "          \u001b[01;35m\u001b[K^~~~~~~~~~~~~~~~~~~~~~~~~~~~~~~~~~~~~~~~~~~~~~~~~~~~~~~~~~~~~~~~~~~\u001b[m\u001b[K\n",
            "\u001b[01m\u001b[Kregex_3/_regex.c:\u001b[m\u001b[K In function ‘\u001b[01m\u001b[Kbasic_match\u001b[m\u001b[K’:\n",
            "\u001b[01m\u001b[Kregex_3/_regex.c:11608:10:\u001b[m\u001b[K \u001b[01;35m\u001b[Kwarning: \u001b[m\u001b[K‘\u001b[01m\u001b[Kdata.new_text_pos\u001b[m\u001b[K’ may be used uninitialized in this function [\u001b[01;35m\u001b[K-Wmaybe-uninitialized\u001b[m\u001b[K]\n",
            "     if (!\u001b[01;35m\u001b[Krecord_fuzzy(state, data.fuzzy_type, data.new_text_pos - data.step)\u001b[m\u001b[K)\n",
            "          \u001b[01;35m\u001b[K^~~~~~~~~~~~~~~~~~~~~~~~~~~~~~~~~~~~~~~~~~~~~~~~~~~~~~~~~~~~~~~~~~~\u001b[m\u001b[K\n",
            "\u001b[01m\u001b[Kregex_3/_regex.c:11522:18:\u001b[m\u001b[K \u001b[01;36m\u001b[Knote: \u001b[m\u001b[K‘\u001b[01m\u001b[Kdata.new_text_pos\u001b[m\u001b[K’ was declared here\n",
            "     RE_FuzzyData \u001b[01;36m\u001b[Kdata\u001b[m\u001b[K;\n",
            "                  \u001b[01;36m\u001b[K^~~~\u001b[m\u001b[K\n",
            "\u001b[01m\u001b[Kregex_3/_regex.c:11369:10:\u001b[m\u001b[K \u001b[01;35m\u001b[Kwarning: \u001b[m\u001b[K‘\u001b[01m\u001b[Kdata.new_text_pos\u001b[m\u001b[K’ may be used uninitialized in this function [\u001b[01;35m\u001b[K-Wmaybe-uninitialized\u001b[m\u001b[K]\n",
            "     if (!\u001b[01;35m\u001b[Krecord_fuzzy(state, data.fuzzy_type, data.new_text_pos - data.step)\u001b[m\u001b[K)\n",
            "          \u001b[01;35m\u001b[K^~~~~~~~~~~~~~~~~~~~~~~~~~~~~~~~~~~~~~~~~~~~~~~~~~~~~~~~~~~~~~~~~~~\u001b[m\u001b[K\n",
            "\u001b[01m\u001b[Kregex_3/_regex.c:11288:18:\u001b[m\u001b[K \u001b[01;36m\u001b[Knote: \u001b[m\u001b[K‘\u001b[01m\u001b[Kdata.new_text_pos\u001b[m\u001b[K’ was declared here\n",
            "     RE_FuzzyData \u001b[01;36m\u001b[Kdata\u001b[m\u001b[K;\n",
            "                  \u001b[01;36m\u001b[K^~~~\u001b[m\u001b[K\n",
            "zip_safe flag not set; analyzing archive contents...\n",
            "regex.__pycache__._regex.cpython-36: module references __file__\n",
            "In file included from \u001b[01m\u001b[Kext/_yaml.c:591:0\u001b[m\u001b[K:\n",
            "\u001b[01m\u001b[Kext/_yaml.h:2:10:\u001b[m\u001b[K \u001b[01;31m\u001b[Kfatal error: \u001b[m\u001b[Kyaml.h: No such file or directory\n",
            " #include \u001b[01;31m\u001b[K<yaml.h>\u001b[m\u001b[K\n",
            "          \u001b[01;31m\u001b[K^~~~~~~~\u001b[m\u001b[K\n",
            "compilation terminated.\n",
            "Error compiling module, falling back to pure Python\n",
            "zip_safe flag not set; analyzing archive contents...\n",
            "warning: no files found matching 'README.txt'\n",
            "warning: no files found matching 'Makefile' under directory '*.txt'\n",
            "warning: no previously-included files matching '*~' found anywhere in distribution\n",
            "warning: no previously-included files found matching '.pre-commit-hooks.yaml'\n",
            "warning: no previously-included files found matching '.travis.yml'\n",
            "warning: no previously-included files found matching 'Makefile'\n",
            "zip_safe flag not set; analyzing archive contents...\n",
            "warning: no previously-included files found matching '.travis.yml'\n",
            "warning: no previously-included files found matching 'Makefile'\n",
            "warning: no previously-included files found matching 'test_acid.py'\n",
            "zip_safe flag not set; analyzing archive contents...\n"
          ],
          "name": "stdout"
        }
      ]
    },
    {
      "cell_type": "markdown",
      "metadata": {
        "id": "3OJJ-L5RCyYT",
        "colab_type": "text"
      },
      "source": [
        "**Example: **\n",
        "\n",
        "your persona: i just started college.\n",
        "\n",
        "your persona: i have 3 science classes.\n",
        "\n",
        "your persona: i work part time in the campus library.\n",
        "\n",
        "your persona: i am living at home but hope to live in the dorms next year.\n",
        "\n",
        "**Partner Dialogue**: hi how are you doing\n",
        "\n",
        "**Your Response**: great ! just got off work and relaxing before i study"
      ]
    },
    {
      "cell_type": "code",
      "metadata": {
        "id": "Oe72XiqFXCS0",
        "colab_type": "code",
        "outputId": "2a92c17c-63ea-4cef-f141-15db61e56c88",
        "colab": {
          "base_uri": "https://localhost:8080/",
          "height": 663
        }
      },
      "source": [
        "# let's download and take a look at some examples of data in PersonaChat\n",
        "!python ~/ParlAI/examples/display_data.py --task personachat --datatype train"
      ],
      "execution_count": 4,
      "outputs": [
        {
          "output_type": "stream",
          "text": [
            "[creating task(s): personachat]\n",
            "[building data: /root/ParlAI/data/Persona-Chat]\n",
            "[ downloading: http://parl.ai/downloads/personachat/personachat.tgz to /root/ParlAI/data/Persona-Chat/personachat.tgz ]\n",
            "Downloading personachat.tgz: 100% 223M/223M [00:07<00:00, 29.6MB/s]\n",
            "[ Checksum Successful ]\n",
            "unpacking personachat.tgz\n",
            "[loading fbdialog data:/root/ParlAI/data/Persona-Chat/personachat/train_self_original.txt]\n",
            "\u001b[1;31m- - - NEW EPISODE: personachat - - -\u001b[0;0m\n",
            "\u001b[0myour persona: i like to remodel homes.\n",
            "your persona: i like to go hunting.\n",
            "your persona: i like to shoot a bow.\n",
            "your persona: my favorite holiday is halloween.\n",
            "hi , how are you doing ? i am getting ready to do some cheetah chasing to stay in shape .\u001b[0;0m\n",
            "   \u001b[1;94myou must be very fast . hunting is one of my favorite hobbies .\u001b[0;0m\n",
            "\u001b[0mi am ! for my hobby i like to do canning or some whittling .\u001b[0;0m\n",
            "   \u001b[1;94mi also remodel homes when i am not out bow hunting .\u001b[0;0m\n",
            "\u001b[0mthat is neat . when i was in high school i placed 6th in 100m dash !\u001b[0;0m\n",
            "   \u001b[1;94mthat is awesome . do you have a favorite season or time of year ?\u001b[0;0m\n",
            "\u001b[0mi do not . but i do have a favorite meat since that is all i eat exclusively .\u001b[0;0m\n",
            "   \u001b[1;94mwhat is your favorite meat to eat ?\u001b[0;0m\n",
            "\u001b[0mi would have to say its prime rib . do you have any favorite foods ?\u001b[0;0m\n",
            "   \u001b[1;94mi like chicken or macaroni and cheese .\u001b[0;0m\n",
            "\u001b[0mdo you have anything planned for today ? i think i am going to do some canning .\u001b[0;0m\n",
            "   \u001b[1;94mi am going to watch football . what are you canning ?\u001b[0;0m\n",
            "\u001b[0mi think i will can some jam . do you also play footfall for fun ?\u001b[0;0m\n",
            "   \u001b[1;94mif i have time outside of hunting and remodeling homes . which is not much !\u001b[0;0m\n",
            "\u001b[1;31m- - - NEW EPISODE: personachat - - -\u001b[0;0m\n",
            "\u001b[0myour persona: my mom is my best friend.\n",
            "your persona: i have four sisters.\n",
            "your persona: i believe that mermaids are real.\n",
            "your persona: i love iced tea.\n",
            "hi , how are you doing today ?\u001b[0;0m\n",
            "   \u001b[1;94mi am spending time with my 4 sisters what are you up to\u001b[0;0m\n",
            "\u001b[0mwow , four sisters . just watching game of thrones .\u001b[0;0m\n",
            "   \u001b[1;94mthat is a good show i watch that while drinking iced tea\u001b[0;0m\n",
            "\u001b[0mi agree . what do you do for a living ?\u001b[0;0m\n",
            "   \u001b[1;94mi am a researcher i am researching the fact that mermaids are real\u001b[0;0m\n",
            "[ loaded 8939 episodes with a total of 65719 examples ]\n"
          ],
          "name": "stdout"
        }
      ]
    },
    {
      "cell_type": "code",
      "metadata": {
        "id": "V3Ob4tEt1vNP",
        "colab_type": "code",
        "outputId": "85146c60-40ab-4b95-84de-4dad0538c221",
        "colab": {
          "base_uri": "https://localhost:8080/",
          "height": 103
        }
      },
      "source": [
        "%%html\n",
        "<p style='color: blue;'>\n",
        "  <b>Questions:</b>\n",
        "  <ul style='color: blue;'>\n",
        "    <li>What do the personalities look like?</li>\n",
        "    <li>How does creating bots with these simple personalities address consistency for chatbots? </li>\n",
        "    <li>What are some drawbacks/limitations of these specific personalities for addressing the problem of consistency?</li>\n",
        "  </ul>\n",
        "</p>"
      ],
      "execution_count": 5,
      "outputs": [
        {
          "output_type": "display_data",
          "data": {
            "text/html": [
              "<p style='color: blue;'>\n",
              "  <b>Questions:</b>\n",
              "  <ul style='color: blue;'>\n",
              "    <li>What do the personalities look like?</li>\n",
              "    <li>How does creating bots with these simple personalities address consistency for chatbots? </li>\n",
              "    <li>What are some drawbacks/limitations of these specific personalities for addressing the problem of consistency?</li>\n",
              "  </ul>\n",
              "</p>"
            ],
            "text/plain": [
              "<IPython.core.display.HTML object>"
            ]
          },
          "metadata": {
            "tags": []
          }
        }
      ]
    },
    {
      "cell_type": "code",
      "metadata": {
        "id": "rufitCzKnwVg",
        "colab_type": "code",
        "colab": {}
      },
      "source": [
        ""
      ],
      "execution_count": 0,
      "outputs": []
    },
    {
      "cell_type": "markdown",
      "metadata": {
        "id": "Z-GdtoMsnxKv",
        "colab_type": "text"
      },
      "source": [
        "* The personalities are simple. They seem to be teenagers.\n",
        "* Chatbots with these simple personalities can not go ahead and ask questions one was not expecting. For example, if the chatbot is a student, it can only talk about studies, school, etc.\n",
        "* The drawbacks with these personalities is that they can get stuck or give non-sense replies when one tries to ask more general questions."
      ]
    },
    {
      "cell_type": "markdown",
      "metadata": {
        "id": "Kyhri6NvYKda",
        "colab_type": "text"
      },
      "source": [
        "\n",
        "\n",
        "---\n",
        "\n",
        "\n",
        "***Let's understand how much data we have. Let's compute the following using ParlAI:***\n",
        "\n",
        "\n",
        "1.   **How many turns of data do we have?** In dialogue datasets, \"amount of data\" is measured in dialogue turns. Each time there is a single line of dialogue, that is called a \"turn\"\n",
        "2.   **On average, how many words form a model input?**\n",
        "\n",
        "\n",
        "---\n",
        "\n",
        "\n"
      ]
    },
    {
      "cell_type": "code",
      "metadata": {
        "id": "30SF6hN6DAjD",
        "colab_type": "code",
        "outputId": "af878cfb-2070-4685-80ab-90195c69242a",
        "colab": {
          "base_uri": "https://localhost:8080/",
          "height": 581
        }
      },
      "source": [
        "!python ~/ParlAI/parlai/scripts/data_stats.py -t personachat -dt train -ltim 10000"
      ],
      "execution_count": 6,
      "outputs": [
        {
          "output_type": "stream",
          "text": [
            "[ note: changing datatype from train to train:ordered ]\n",
            "[creating task(s): personachat]\n",
            "[loading fbdialog data:/root/ParlAI/data/Persona-Chat/personachat/train_self_original.txt]\n",
            "[ loaded 8939 episodes with a total of 65719 examples ]\n",
            "20s elapsed:\n",
            "      %done  \\\n",
            "    100.00%   \n",
            "      exs  \\\n",
            "    65719   \n",
            "                                                                                                                                                                                                                                                                                                                                                                                                                                                                 stats  \\\n",
            "    \n",
            "input:\n",
            "   utterances: 65719\n",
            "   avg utterance length: 18.356974390967604\n",
            "   tokens: 1206402\n",
            "   unique tokens: 14209\n",
            "   unique utterances: 64580\n",
            "labels:\n",
            "   utterances: 65719\n",
            "   avg utterance length: 11.929411585690591\n",
            "   tokens: 783989\n",
            "   unique tokens: 14507\n",
            "   unique utterances: 64119\n",
            "both:\n",
            "   utterances: 131438\n",
            "   avg utterance length: 15.143192988329098\n",
            "   tokens: 1990391\n",
            "   unique tokens: 18741\n",
            "   unique utterances: 128197\n",
            "   \n",
            "   time_left  \n",
            "          0s\n"
          ],
          "name": "stdout"
        }
      ]
    },
    {
      "cell_type": "markdown",
      "metadata": {
        "id": "0vwk7krxU57M",
        "colab_type": "text"
      },
      "source": [
        "## Evaluation\n",
        "\n",
        "How are dialogue models evaluated?\n",
        "\n",
        "\n",
        "\n",
        "1.   **Automatic Evaluation**: Hits @ 1, Hits @ 5, Hits @ 10, F1\n",
        "2.   **Human Evaluation**: Pairing Selection, Human Rating\n",
        "\n"
      ]
    },
    {
      "cell_type": "code",
      "metadata": {
        "id": "pGI2fFPLVRSJ",
        "colab_type": "code",
        "outputId": "c09b17b9-efb4-42ea-a7c3-86985f68a655",
        "colab": {
          "base_uri": "https://localhost:8080/",
          "height": 69
        }
      },
      "source": [
        "%%html\n",
        "<p style='color: blue;'>\n",
        "  <b>Questions:</b>\n",
        "  <ul style='color: blue;'>\n",
        "    <li>Take some notes about what these metrics are and what they mean here</li>\n",
        "  </ul>\n",
        "</p>"
      ],
      "execution_count": 7,
      "outputs": [
        {
          "output_type": "display_data",
          "data": {
            "text/html": [
              "<p style='color: blue;'>\n",
              "  <b>Questions:</b>\n",
              "  <ul style='color: blue;'>\n",
              "    <li>Take some notes about what these metrics are and what they mean here</li>\n",
              "  </ul>\n",
              "</p>"
            ],
            "text/plain": [
              "<IPython.core.display.HTML object>"
            ]
          },
          "metadata": {
            "tags": []
          }
        }
      ]
    },
    {
      "cell_type": "markdown",
      "metadata": {
        "id": "K_usjY6y-TDg",
        "colab_type": "text"
      },
      "source": [
        "- Automatic Evaluations:\n",
        "\n",
        " - Hits @ is a ranking metric particularly useful in retrieval models. Hits @ 5 for example means that the candidate to choose is among the top 5 ranked. It can't be used to evaluate a generative model.\n",
        "\n",
        " - F1 is an evaluation metric useful both for generative and retrieval models. It is a mix of Precision and Recall of the model. The metric splits both the correct and the predicted/generated sentences into words then computes the Precision and Recall at the word overlap level.\n",
        "- Human Evaluation:\n",
        "\n",
        " Human evaluations are the most used because they capture the range of possible responses as opposed to automatic evaluations. Two sets of Human evaluations are used: Pairing and Rating. \n",
        "\n",
        " - \"Paring\" gives to different responses from two different models and ask people to choose the one that seems better to them. \n",
        " \n",
        " - In the case of \"Rating\", we give people a response from a model and ask them to rate it on a scale of $5$ or $10$. The question in this case can be: Tell us how correct this sentence is? Does this make sense?\n"
      ]
    },
    {
      "cell_type": "markdown",
      "metadata": {
        "id": "KpkwidfAZ_7p",
        "colab_type": "text"
      },
      "source": [
        "## Models"
      ]
    },
    {
      "cell_type": "markdown",
      "metadata": {
        "id": "YuqnjqxbZ_W2",
        "colab_type": "text"
      },
      "source": [
        "There are two main kinds of dialogue models. \n",
        "\n",
        "*Retrieval* Models analyze the current dialogue context and try to find appropriate responses in the dataset.\n",
        "\n",
        "*Generative* Models analyze the current dialogue context\n",
        "and try to write an answer, word by word, from left to right.\n",
        "This can be thought of as an application of sequence-to-sequence models,  where the \"encoder side\" is the dialogue history and the \"decoder side\" is the dialogue response your chatbot should generate."
      ]
    },
    {
      "cell_type": "code",
      "metadata": {
        "id": "JPRp1MlH3n0h",
        "colab_type": "code",
        "outputId": "dfccad5b-45f0-4e56-c358-047e389c720d",
        "colab": {
          "base_uri": "https://localhost:8080/",
          "height": 143
        }
      },
      "source": [
        "%%html\n",
        "<p style='color: blue;'>\n",
        "  <b>Questions:</b>\n",
        "  <ul style='color: blue;'>\n",
        "    <li>Let's discuss the pros/cons of retrieval compared to generative models - Are there settings when you might want to use one over the other?</li>\n",
        "    <li>Compare a chit-chat application to something like booking a movie ticket- would you want to use generative, retrieval, or something else to accomplish that task? Why?</li>\n",
        "    <li>How can you evaluate generative models with the metrics we discussed before? How do you think they will perform compared to retrieval models?</li>\n",
        "    <li>In lecture, Antoine mentioned issues with generative model generation being generic and short. How does this happen in beam search?</li>\n",
        "</ul>\n",
        "\n",
        "<b> If you would like me to discuss how to actually use generative models in dialog, please say something! Otherwise, we will skip.</b>\n",
        "</p>"
      ],
      "execution_count": 8,
      "outputs": [
        {
          "output_type": "display_data",
          "data": {
            "text/html": [
              "<p style='color: blue;'>\n",
              "  <b>Questions:</b>\n",
              "  <ul style='color: blue;'>\n",
              "    <li>Let's discuss the pros/cons of retrieval compared to generative models - Are there settings when you might want to use one over the other?</li>\n",
              "    <li>Compare a chit-chat application to something like booking a movie ticket- would you want to use generative, retrieval, or something else to accomplish that task? Why?</li>\n",
              "    <li>How can you evaluate generative models with the metrics we discussed before? How do you think they will perform compared to retrieval models?</li>\n",
              "    <li>In lecture, Antoine mentioned issues with generative model generation being generic and short. How does this happen in beam search?</li>\n",
              "</ul>\n",
              "\n",
              "<b> If you would like me to discuss how to actually use generative models in dialog, please say something! Otherwise, we will skip.</b>\n",
              "</p>"
            ],
            "text/plain": [
              "<IPython.core.display.HTML object>"
            ]
          },
          "metadata": {
            "tags": []
          }
        }
      ]
    },
    {
      "cell_type": "markdown",
      "metadata": {
        "id": "4H2QcZ7kF6_e",
        "colab_type": "text"
      },
      "source": [
        "- Pros and Cons of generative/retrieval models\n",
        "\n",
        " -Retrieval models\n",
        "\n",
        "  - The advantage of using a retrieval model is that the predicted/retrieved sentences are always well written because they come Human conversations.\n",
        "  - The drawbacks for using retrieval models is that they completely rely on the dataset they have been trained on. Imagine we a model trained on a dataset talking about Coronavirus 2 or 3 years ago. Since people where not at that time talking a lot about the virus, the model wouldn't have enough utterances/sentences to retrieve from and therefore could appear very weak today.\n",
        "\n",
        " -Genrative models:\n",
        " - The advantage of using a generative model is that it can try to adapt to new situations whereas a retrieval model can not.\n",
        " - What is bad with generative models is that they can generate sentences that do not make sense when the training dataset is not very large.\n",
        "\n",
        "- Booking a ticket:\n",
        "\n",
        " - When it comes to applications like buying a flight ticket, we would prefer using models other than both generative and retrieval models. The reason for this is that we need some predefined information like \"what day and at what time do you want to fly, from where, ..., etc\". \n",
        "\n",
        "- Evaluation of a generative model with the metrics we discussed above:\n",
        " - We would use the F1 score to evaluate the generative model. The performance of a generative and retrieval model depends on the situation. If at training time we used a dataset talking about studies and at test time we talk to the models about football, then the retrieval model wouldn't have much to retrieve from and therefore the generative model would do better.\n",
        "\n",
        "- How do generic and short responses work on beam search:\n",
        "\n",
        " - At every step of the beam search, the model predicts the probable next candidates (top ranked candidates). So predicting something rare is penalized by the beam search. Between two similar words, beam search favors the most frequent word in the training dataset."
      ]
    },
    {
      "cell_type": "markdown",
      "metadata": {
        "id": "D_99CoAwaW2w",
        "colab_type": "text"
      },
      "source": [
        "### Retrieval Models"
      ]
    },
    {
      "cell_type": "markdown",
      "metadata": {
        "id": "BAfk4Km8bY_Y",
        "colab_type": "text"
      },
      "source": [
        "Let's train a model to do retrieval first. We will try the *Memory Net.* "
      ]
    },
    {
      "cell_type": "code",
      "metadata": {
        "id": "EyNOObOkbYTQ",
        "colab_type": "code",
        "colab": {}
      },
      "source": [
        "# We can train a model with the following command: \n",
        "# !python ~/ParlAI/examples/train_model.py -m kv_memnn -t personachat -dt train -veps 0.25 --model-file persona_chat_retrieval_model -vmt accuracy\n",
        "\n",
        "# but we have limited time in the tutorial, so let's use an already pretrained model"
      ],
      "execution_count": 0,
      "outputs": []
    },
    {
      "cell_type": "markdown",
      "metadata": {
        "id": "gylhJvZwa0Vp",
        "colab_type": "text"
      },
      "source": [
        "Quick Parameter Refresher:\n",
        "\n",
        "\n",
        "*  `-m ` means which model we're going to use. Recall retrieval models are trained to rank the true response higher over a set of potential responses from the dataset (in ParlAI, these are called the \"label candidates\"). When it's time to write a dialogue response, the retrieval model returns the response that is ranked the highest\n",
        "*  -`t` refers to the task. Here, we are training on PersonaChat data.\n",
        "* `-dt` refers to the data split. We want to train our model, so we are using the training set.\n",
        "* `-veps` refers to how often we should evaluate during training, our performance on validation. recall this is important because models, particularly neural ones, have the capacity to memorize the training dataset. So it's important to check how the model is doing on the validation set.\n",
        "* `--model-file` refers to when your model is saved, what should the filename be\n",
        "*  `-vmt` refers to the metric which we'll use to decide which model is the best. We'll cover this in the next section\n",
        "\n",
        "\n",
        "\n"
      ]
    },
    {
      "cell_type": "markdown",
      "metadata": {
        "id": "W6wdfxEccAAp",
        "colab_type": "text"
      },
      "source": [
        "**Let's interact with the model to get a sense of what it's learning. **How is this chat going to work?\n",
        "\n",
        "\n",
        "\n",
        "1.   You will be assigned a persona. You will chat to the model by typing in the chat box.\n",
        "2.   The chatbot also has a persona. It's secret and hidden from you!\n",
        "3.   When you've finished chatting with this bot, type [DONE] and a new model persona will be assigned to the bot, so you can talk to a new bot. \n",
        "4.   When you move on to the next chatbot persona, the previous persona will be revealed. \n",
        "\n",
        "Interact with the chatbots and the personas. **Try to think about the following:**\n",
        "\n",
        "*   Do the chatbots follow their persona a lot?\n",
        "*   Was it difficult to follow your persona?\n",
        "\n",
        "\n",
        "\n"
      ]
    },
    {
      "cell_type": "code",
      "metadata": {
        "id": "XdyaEgpcI7UL",
        "colab_type": "code",
        "outputId": "5b9b22b1-e699-4ff4-b42c-0394b205a5cf",
        "colab": {
          "base_uri": "https://localhost:8080/",
          "height": 1000
        }
      },
      "source": [
        "!python ~/ParlAI/projects/convai2/interactive.py -mf models:convai2/kvmemnn/model"
      ],
      "execution_count": 0,
      "outputs": [
        {
          "output_type": "stream",
          "text": [
            "[building data: /root/ParlAI/data/models/convai2/kvmemnn/kvmemnn.tgz]\n",
            "[ downloading: http://parl.ai/downloads/_models/convai2/kvmemnn.tgz to /root/ParlAI/data/models/convai2/kvmemnn/kvmemnn.tgz ]\n",
            "Downloading kvmemnn.tgz: 100% 173M/173M [00:06<00:00, 27.6MB/s]\n",
            "unpacking kvmemnn.tgz\n",
            "[ warning: overriding opt['model_file'] to /root/ParlAI/data/models/convai2/kvmemnn/model (previously: /checkpoint/jase/20180328/kvmemnn_sweep10/persona-self_rephraseTrn-True_rephraseTst-False_lr-0.1_esz-2000_margin-0.1_tfidf-False_shareEmb-True_hops1_lins0/model )]\n",
            "[ creating KvmemnnAgent ]\n",
            "Dictionary: loading dictionary from /root/ParlAI/data/models/convai2/kvmemnn/model.dict\n",
            "[ num words =  19153 ]\n",
            "Loading existing model params from /root/ParlAI/data/models/convai2/kvmemnn/model\n",
            "[loading candidates: /root/ParlAI/data/models/convai2/kvmemnn/model.candspair*]\n",
            "[caching..]\n",
            "=init done=\n",
            "/usr/local/lib/python3.6/dist-packages/torch/nn/_reduction.py:43: UserWarning: size_average and reduce args will be deprecated, please use reduction='sum' instead.\n",
            "  warnings.warn(warning.format(ret))\n",
            "[creating task(s): parlai.agents.local_human.local_human:LocalHumanAgent]\n",
            "\u001b[1;31mEnter [DONE] if you want to end the episode, [EXIT] to quit.\u001b[0;0m\n",
            "[ optional arguments: ] \n",
            "[  display_examples: False ]\n",
            "[  display_ignore_fields: label_candidates,text_candidates ]\n",
            "[  display_prettify: False ]\n",
            "[ Main ParlAI Arguments: ] \n",
            "[  batchsize: 1 ]\n",
            "[  datapath: /root/ParlAI/data ]\n",
            "[  datatype: train ]\n",
            "[  download_path: /private/home/jase/src/ParlAI/downloads ]\n",
            "[  dynamic_batching: None ]\n",
            "[  hide_labels: False ]\n",
            "[  image_mode: raw ]\n",
            "[  init_opt: None ]\n",
            "[  multitask_weights: [1] ]\n",
            "[  numthreads: 40 ]\n",
            "[  show_advanced_args: False ]\n",
            "[  task: convai2:SelfRevisedTeacher ]\n",
            "[ ParlAI Model Arguments: ] \n",
            "[  dict_class: parlai.core.dict:DictionaryAgent ]\n",
            "[  init_model: None ]\n",
            "[  model: projects.personachat.kvmemnn.kvmemnn:KvmemnnAgent ]\n",
            "[  model_file: /root/ParlAI/data/models/convai2/kvmemnn/model ]\n",
            "[ Local Human Arguments: ] \n",
            "[  local_human_candidates_file: None ]\n",
            "[  single_turn: False ]\n",
            "[ ParlAI Image Preprocessing Arguments: ] \n",
            "[  image_cropsize: 224 ]\n",
            "[  image_size: 256 ]\n",
            "[ Dictionary Arguments: ] \n",
            "[  bpe_debug: False ]\n",
            "[  dict_endtoken: __END__ ]\n",
            "[  dict_file: /root/ParlAI/data/models/convai2/kvmemnn/model.dict ]\n",
            "[  dict_initpath: None ]\n",
            "[  dict_language: english ]\n",
            "[  dict_lower: False ]\n",
            "[  dict_max_ngram_size: -1 ]\n",
            "[  dict_maxtokens: -1 ]\n",
            "[  dict_minfreq: 0 ]\n",
            "[  dict_nulltoken: __NULL__ ]\n",
            "[  dict_starttoken: __START__ ]\n",
            "[  dict_textfields: text,labels ]\n",
            "[  dict_tokenizer: split ]\n",
            "[  dict_unktoken: __UNK__ ]\n",
            "[ BPEHelper Arguments: ] \n",
            "[  bpe_add_prefix_space: None ]\n",
            "[  bpe_merge: None ]\n",
            "[  bpe_vocab: None ]\n",
            "[ Kvmemnn Arguments: ] \n",
            "[  cache_size: 1000 ]\n",
            "[  embeddingnorm: 10 ]\n",
            "[  embeddingsize: 2000 ]\n",
            "[  history_length: 100 ]\n",
            "[  history_replies: label ]\n",
            "[  hops: 1 ]\n",
            "[  interactive_mode: False ]\n",
            "[  kvmemnn_debug: False ]\n",
            "[  learningrate: 0.1 ]\n",
            "[  lins: 0 ]\n",
            "[  loadcands: True ]\n",
            "[  loss: cosine ]\n",
            "[  margin: 0.1 ]\n",
            "[  neg_samples: 10 ]\n",
            "[  optimizer: sgd ]\n",
            "[  parrot_neg: 0 ]\n",
            "[  share_embeddings: True ]\n",
            "[  take_next_utt: False ]\n",
            "[  tfidf: False ]\n",
            "[  truncate: -1 ]\n",
            "[  twohop_blend: 0 ]\n",
            "[  twohop_range: 100 ]\n",
            "[creating task(s): convai2:both]\n",
            "[building data: /root/ParlAI/data/ConvAI2]\n",
            "[ downloading: http://parl.ai/downloads/convai2/convai2_fix_723.tgz to /root/ParlAI/data/ConvAI2/convai2_fix_723.tgz ]\n",
            "Downloading convai2_fix_723.tgz: 100% 430M/430M [00:13<00:00, 32.3MB/s]\n",
            "[ Checksum Successful ]\n",
            "unpacking convai2_fix_723.tgz\n",
            "Hi!\n",
            "[loading fbdialog data:/root/ParlAI/data/ConvAI2/train_both_original.txt]\n",
            "your persona: my favorite is rock fish.\n",
            "your persona: i m going riding on my boat today.\n",
            "your persona: i love tuna.\n",
            "your persona: i live in cape hatteras.\n",
            "your persona: i'm a fisherman.\n",
            "Enter [DONE] if you want a new partner at any time.\n",
            "\u001b[0mEnter Your Message:\u001b[0;0m \u001b[0;34m[[no id field]]:\u001b[0;0m \u001b[1mhello . how are you ? what is your favorite party of history ?\u001b[0;0m\n",
            "\u001b[0mEnter Your Message:\u001b[0;0m birthday party\n",
            "\u001b[0;34m[[no id field]]:\u001b[0;0m \u001b[1mmy dog will not stop barking\u001b[0;0m\n",
            "\u001b[0mEnter Your Message:\u001b[0;0m I don't like dogs\n",
            "\u001b[0;34m[[no id field]]:\u001b[0;0m \u001b[1mi love dogs , i have a chihuahua terrier mix .\u001b[0;0m\n",
            "\u001b[0mEnter Your Message:\u001b[0;0m I am not coming to your house\n",
            "\u001b[0;34m[[no id field]]:\u001b[0;0m \u001b[1mcool ! i live with my mom so she is not alone since she is a single mother\u001b[0;0m\n",
            "\u001b[0mEnter Your Message:\u001b[0;0m Where is your father?\n",
            "\u001b[0;34m[[no id field]]:\u001b[0;0m \u001b[1mdied four years ago in an accident .\u001b[0;0m\n",
            "\u001b[0mEnter Your Message:\u001b[0;0m Oh! I'm sorry.\n",
            "\u001b[0;34m[[no id field]]:\u001b[0;0m \u001b[1mhe used to love to hear me play the piano .\u001b[0;0m\n",
            "\u001b[0mEnter Your Message:\u001b[0;0m I don't love playing piano. I find it boring\n",
            "\u001b[0;34m[[no id field]]:\u001b[0;0m \u001b[1mmath and music . she taught me to play bass , which i really like .\u001b[0;0m\n",
            "\u001b[0mEnter Your Message:\u001b[0;0m "
          ],
          "name": "stdout"
        }
      ]
    },
    {
      "cell_type": "code",
      "metadata": {
        "id": "hNbf3YEp31Z0",
        "colab_type": "code",
        "outputId": "6007cf86-a3e9-48ec-a543-4a39b0db0fb6",
        "colab": {
          "base_uri": "https://localhost:8080/",
          "height": 103
        }
      },
      "source": [
        "%%html\n",
        "<p style='color: blue;'>\n",
        "  <b>Questions:</b>\n",
        "  <ul style='color: blue;'>\n",
        "    <li>What does this model seem to be doing well? What is it doing poorly? </li>\n",
        "    <li>Why might it be performing poorly? What kind of experiment could you design to test your hypothesis?</li>\n",
        "    <li>How do we know if we need to use a more complex model? Would we always want to use a more complex model? Why or why not?</li>\n",
        "  </ul>\n",
        "</p>"
      ],
      "execution_count": 0,
      "outputs": [
        {
          "output_type": "display_data",
          "data": {
            "text/html": [
              "<p style='color: blue;'>\n",
              "  <b>Questions:</b>\n",
              "  <ul style='color: blue;'>\n",
              "    <li>What does this model seem to be doing well? What is it doing poorly? </li>\n",
              "    <li>Why might it be performing poorly? What kind of experiment could you design to test your hypothesis?</li>\n",
              "    <li>How do we know if we need to use a more complex model? Would we always want to use a more complex model? Why or why not?</li>\n",
              "  </ul>\n",
              "</p>"
            ],
            "text/plain": [
              "<IPython.core.display.HTML object>"
            ]
          },
          "metadata": {
            "tags": []
          }
        }
      ]
    },
    {
      "cell_type": "markdown",
      "metadata": {
        "id": "apl_lxs1RY-x",
        "colab_type": "text"
      },
      "source": [
        "- What does the model above seem to be doing well\n",
        " - The model can provide well the informations about itself like: \"I have a sister. I like playing footbal,...,etc. But it is not answering questions accurately. It just generates sentences containing some words of your input senetence.\n",
        "\n",
        "- The model could perform poorly if it has never seen the kind of sentences I am giving to it."
      ]
    },
    {
      "cell_type": "code",
      "metadata": {
        "id": "t_SYFM2UaUuq",
        "colab_type": "code",
        "colab": {}
      },
      "source": [
        "# Here is a command to train a Transformer Ranker model if you would like to try it out\n",
        "# !python ~/ParlAI/examples/train_model.py -m transformer/ranker -t personachat -dt train -veps 0.25 --model-file persona_chat_retrieval_model -vmt accuracy"
      ],
      "execution_count": 0,
      "outputs": []
    },
    {
      "cell_type": "markdown",
      "metadata": {
        "id": "Kd7Sfurfdc_3",
        "colab_type": "text"
      },
      "source": [
        "\n",
        "\n",
        "---\n",
        "\n",
        "\n",
        "An important aspect of training models is analyzing them. ***Try to answer the following questions.*** \n",
        "\n",
        "---\n",
        "\n",
        "\n"
      ]
    },
    {
      "cell_type": "code",
      "metadata": {
        "id": "-1pAkQdt4n5_",
        "colab_type": "code",
        "outputId": "c3c9f03a-4187-41c1-d0c7-626b66557a27",
        "colab": {
          "base_uri": "https://localhost:8080/",
          "height": 160
        }
      },
      "source": [
        "%%html\n",
        "<p style='color: blue;'>\n",
        "  <b>Questions:</b>\n",
        "  <ul style='color: blue;'>\n",
        "    <li>Are the models using the persona that we have provided? How can you tell? If I asked you to prove it to me, what experiments could you conduct? </li>\n",
        "    <li>Previously, we computed some statistics about how long the persona is in the training data. The model has also only seen words present in the training dataset. But what happens if you push the model outside of what data it's been trained on? What kind of performance do you get? Why does this happen, and what could you do if you wanted to improve the model's ability to generalize? </li>\n",
        "    <li>In ParlAI, we've set the parameters to save the model's best performance based on validation accuracy. What would happen if we saved the model based on the best training accuracy? Why does this happen? (if you like, try this out on your own and see the effect when you interact with the bot)</li>\n",
        "  </ul>\n",
        "\n",
        "<b> If you would like me to discuss how to use BERT in dialog, please say something! Otherwise, we will skip.</b>\n",
        "</p>"
      ],
      "execution_count": 0,
      "outputs": [
        {
          "output_type": "display_data",
          "data": {
            "text/html": [
              "<p style='color: blue;'>\n",
              "  <b>Questions:</b>\n",
              "  <ul style='color: blue;'>\n",
              "    <li>Are the models using the persona that we have provided? How can you tell? If I asked you to prove it to me, what experiments could you conduct? </li>\n",
              "    <li>Previously, we computed some statistics about how long the persona is in the training data. The model has also only seen words present in the training dataset. But what happens if you push the model outside of what data it's been trained on? What kind of performance do you get? Why does this happen, and what could you do if you wanted to improve the model's ability to generalize? </li>\n",
              "    <li>In ParlAI, we've set the parameters to save the model's best performance based on validation accuracy. What would happen if we saved the model based on the best training accuracy? Why does this happen? (if you like, try this out on your own and see the effect when you interact with the bot)</li>\n",
              "  </ul>\n",
              "\n",
              "<b> If you would like me to discuss how to use BERT in dialog, please say something! Otherwise, we will skip.</b>\n",
              "</p>"
            ],
            "text/plain": [
              "<IPython.core.display.HTML object>"
            ]
          },
          "metadata": {
            "tags": []
          }
        }
      ]
    },
    {
      "cell_type": "markdown",
      "metadata": {
        "id": "eTHItY-QdNtw",
        "colab_type": "text"
      },
      "source": [
        "### [for self exploration] Generative Models"
      ]
    },
    {
      "cell_type": "markdown",
      "metadata": {
        "id": "GM6LaBzbe6Za",
        "colab_type": "text"
      },
      "source": [
        "Generative models must produce word for word what they are going to say next in the dialogue. When predicting the next word, it produces a probability distribution over the entire vocabulary space for which word to generate next. To reduce the vocabulary space, we will use **byte-pair encoding** (BPE). \n",
        "\n",
        "*How does BPE work?* The BPE algorithm takes as input the training data and the number of *operations* it can do. It passes over the training set and tries to create sub-word units. For example, the word \"beautiful\" might be split into \"beau\" \"ti\" \"ful\". Each time it splits a word into sub-words, that is one operation. The final vocabulary output consists of these subwords. So \"ful\" can be part of \"beautiful\" and part of \"fruitful\" and so on.\n",
        "\n",
        "\n",
        "**Questions to ask yourself**:\n",
        "\n",
        "\n",
        "1.   Why is it important to keep the vocabulary space small?\n",
        "2.   What does perplexity measure? Why would we use it as a training objective? \n",
        "\n",
        "\n"
      ]
    },
    {
      "cell_type": "code",
      "metadata": {
        "id": "G4gNbbAugACx",
        "colab_type": "code",
        "colab": {}
      },
      "source": [
        "# !python ~/ParlAI/examples/train_model.py -m transformer/generator -t personachat -dt train -veps 0.25 --model-file persona_chat_generative_model -vmt ppl"
      ],
      "execution_count": 0,
      "outputs": []
    },
    {
      "cell_type": "markdown",
      "metadata": {
        "id": "fHpD0Ccb1zhd",
        "colab_type": "text"
      },
      "source": [
        "## Final Thoughts"
      ]
    },
    {
      "cell_type": "markdown",
      "metadata": {
        "id": "MHdsZ3Sq12n6",
        "colab_type": "text"
      },
      "source": [
        "**What did we learn about dialogue modeling? Review Questions to ask yourself**\n",
        "\n",
        "*   How do retrieval models work? What about generative? What are their pros and cons?\n",
        "*   What are some important traits of dialogue systems? How might the traits differ for different dialogue tasks?\n",
        "\n",
        "\n",
        "**General Takeaways about Machine Learning and Experimentation:**\n",
        "\n",
        "*   We don't try models just to try them - try to have a reason for conducting an experiment. As we did in the lab, try to analyze what's working well in your models and working poorly. Try to use these reasons to guide why you might want to try other models. Complex is not necessarily better. \n",
        "*   Certain models can be better for certain tasks. As we've seen, generative models are working really well for tasks such as machine translation, but have a bit to go before becoming general purpose dialogue generators. \n",
        "\n",
        "\n",
        "\n",
        "**I'm really interested in dialogue! What can I do to learn more?**\n",
        "\n",
        "\n",
        "*   Play around in ParlAI: ParlAI is a general library with many great dialogue models and code for them. It also provides a standard interface to access datasets and interact with various models. \n",
        "*   Read the PersonaChat Paper: https://arxiv.org/pdf/1801.07243.pdf\n",
        "*   Dialog using knowledge: One challenge of these chit chat systems is they do not concretely know any facts. So if you want to chat about a specific topic, the models cannot produce any relevant information - they say generic utterances or incorrect facts. One way to remedy this is to incorporate **knowledge** into the dialogue agents. This has been investigated in many different ways, but one of the first papers to show this is https://arxiv.org/abs/1811.01241. In this work, data is collected by asking one speaker to reference Wikipedia sentences.\n",
        "* Dialog with BERT: pretty new,  there is an investigation of two ways to use BERT in this paper: https://arxiv.org/abs/1903.03094. \n",
        "\n",
        "\n"
      ]
    }
  ]
}